{
 "cells": [
  {
   "cell_type": "code",
   "execution_count": null,
   "id": "8094d3bd-58e6-4b9a-a8a1-c74a3f2a18c3",
   "metadata": {},
   "outputs": [],
   "source": [
    "# ==========================================================\n",
    "# Maestría en Ciencia y Análisis de Datos\n",
    "# Universidad Mayor de San Andrés\n",
    "# ----------------------------------------------------------\n",
    "#           Machine Learning y Deep Learning\n",
    "# ----------------------------------------------------------\n",
    "#        Rolando Gonzales Martinez, Agosto 2024\n",
    "# ==========================================================\n",
    "#        Curva ROC y validación de los modelos ML\n",
    "# ==========================================================\n",
    "from sklearn.model_selection import train_test_split\n",
    "from sklearn.metrics import roc_curve, auc\n",
    "from sklearn.ensemble import RandomForestClassifier\n",
    "import matplotlib.pyplot as plt\n",
    "import numpy as np\n",
    "import pandas as pd\n",
    "import random"
   ]
  },
  {
   "cell_type": "code",
   "execution_count": null,
   "id": "7f75a5e2-5df2-4fc7-9bd9-332190d9af14",
   "metadata": {},
   "outputs": [],
   "source": [
    "# Cargar el conjunto de datos:\n",
    "url = 'https://raw.githubusercontent.com/rogon666/UMSA/main/AIMLDL/Datos/fraudes_tarjetascredito.csv'\n",
    "\n",
    "# Cargar los datos en un DataFrame\n",
    "df= pd.read_csv(url)\n",
    "\n",
    "# Mostrar las primeras filas del DataFrame\n",
    "print(df.head())"
   ]
  },
  {
   "cell_type": "code",
   "execution_count": null,
   "id": "17107305-4853-452a-81be-64f522036397",
   "metadata": {},
   "outputs": [],
   "source": [
    "# Separar características (X) y la variable objetivo (y)\n",
    "X = df.drop(columns=['fraude','precio_compra'])\n",
    "y = df['fraude']"
   ]
  },
  {
   "cell_type": "code",
   "execution_count": null,
   "id": "be753cc7-5fab-4c22-8a18-177ab2c422a3",
   "metadata": {},
   "outputs": [],
   "source": [
    "# Feature selection aleatoria (solamente por ilustracion):\n",
    "X_s = X.drop(columns=random.sample(list(X.columns),2))\n",
    "print(X_s)"
   ]
  },
  {
   "cell_type": "code",
   "execution_count": null,
   "id": "8c8ad351-3b83-4d8e-826f-24b05f350056",
   "metadata": {},
   "outputs": [],
   "source": [
    "# Estimacion de un solo modelo\n",
    "porcentaje_entrenamiento = \n",
    "X_train, X_test, y_train, y_test = train_test_split(X_s, y, \n",
    "                                                    test_size=1 - porcentaje_entrenamiento)\n",
    "modelo = RandomForestClassifier(\n",
    "                n_estimators =  # numero de arboles (10 en este ejemplo)\n",
    "                )\n",
    "# Entrenar el modelo:\n",
    "modelo.fit(X_train, y_train)\n",
    "# Realizar predicciones:\n",
    "y_pred = modelo.predict_proba(X_test)[:, 1]  \n",
    "# Calcular curva ROC y AUC para el fold único\n",
    "fpr_single, tpr_single, _ = roc_curve(y_test, y_pred)\n",
    "roc_auc_single = auc(fpr_single, tpr_single)\n",
    "\n",
    "# Gráfico 1: Curva ROC para un solo conjunto de validación\n",
    "plt.figure(figsize=(12, 6))\n",
    "plt.subplot(1, 2, 1)\n",
    "plt.plot(fpr_single, tpr_single, color='darkorange', lw=2, label='Curva ROC (AUC = %0.2f)' % roc_auc_single)\n",
    "plt.plot([0, 1], [0, 1], color='navy', lw=2, linestyle='--')\n",
    "plt.xlim([0.0, 1.0])\n",
    "plt.ylim([0.0, 1.05])\n",
    "plt.xlabel('Tasa de Falsos Positivos')\n",
    "plt.ylabel('Tasa de Verdaderos Positivos')\n",
    "plt.title('Curva ROC - Un solo conjunto de validación')\n",
    "plt.legend(loc=\"lower right\")"
   ]
  },
  {
   "cell_type": "code",
   "execution_count": null,
   "id": "ff8aa1f4-fa9e-46a0-ac89-f99d3b283467",
   "metadata": {},
   "outputs": [],
   "source": [
    "# Generar múltiples curvas ROC entrenando el modelo varias veces\n",
    "n_iteraciones =   # Número de repeticiones para obtener diferentes curvas ROC (10 en este ejemplo)\n",
    "tprs = []\n",
    "fprs = []\n",
    "aucs = []\n",
    "\n",
    "# Para asegurar que todas las curvas ROC tengan la misma longitud\n",
    "mean_fpr = np.linspace(0, 1, 100)\n",
    "\n",
    "for i in range(n_iteraciones):\n",
    "    X_s = X.drop(columns=random.sample(list(X.columns), 2))\n",
    "    porcentaje_entrenamiento = random.uniform(0.5, 0.9)*100\n",
    "    X_train, X_test, y_train, y_test = train_test_split(X_s, y, \n",
    "                                                    test_size=1 - (porcentaje_entrenamiento/100))\n",
    "    # Reentrenar el modelo y predecir\n",
    "    arboles = random.randint(10, 100)  # número de árboles\n",
    "    modelo = RandomForestClassifier(n_estimators=arboles)\n",
    "    modelo.fit(X_train, y_train)\n",
    "    y_pred = modelo.predict_proba(X_test)[:, 1]\n",
    "    \n",
    "    # Calcular la curva ROC\n",
    "    fpr, tpr, _ = roc_curve(y_test, y_pred)\n",
    "    roc_auc = auc(fpr, tpr)\n",
    "    \n",
    "    # Interpolar TPR para que tenga la misma longitud\n",
    "    tpr_interp = np.interp(mean_fpr, fpr, tpr)\n",
    "    tprs.append(tpr_interp)\n",
    "    fprs.append(mean_fpr)  # Usar el mismo mean_fpr para todas las iteraciones\n",
    "    aucs.append(roc_auc)\n",
    "    \n",
    "    print(f\"Iteracion {i+1}: AUC = {roc_auc:.4f}, muestra de entrenamiento (%) = {porcentaje_entrenamiento:.2f}, arboles en el bosque aleatorio = {arboles:.0f}\")\n",
    "mean_tpr = np.mean(tprs, axis=0)\n",
    "mean_tpr[-1] = 1.0 \n",
    "mean_fpr = np.mean(fprs, axis=0)"
   ]
  },
  {
   "cell_type": "code",
   "execution_count": null,
   "id": "d14a0410-7964-4cf7-93e6-964eae3171cd",
   "metadata": {},
   "outputs": [],
   "source": [
    "# Calcular el promedio y la desviación estándar del area bajo la curva:\n",
    "mean_auc = auc(mean_fpr, mean_tpr)\n",
    "std_auc = np.std(aucs)\n",
    "\n",
    "# Gráfico del promedio de la curva ROC y su banda de desviación estándar\n",
    "plt.plot(mean_fpr, mean_tpr, color='b', label=r'Curva ROC Promedio (AUC = %0.2f $\\pm$ %0.2f)' % (mean_auc, std_auc), lw=2, alpha=0.8)\n",
    "std_tpr = np.std(tprs, axis=0)\n",
    "tprs_upper = np.minimum(mean_tpr + std_tpr, 1)\n",
    "tprs_lower = np.maximum(mean_tpr - std_tpr, 0)\n",
    "plt.fill_between(mean_fpr, tprs_lower, tprs_upper, color='grey', alpha=0.2, label=r'$\\pm$ 1 std. dev.')\n",
    "\n",
    "# Graficar la línea base\n",
    "plt.plot([0, 1], [0, 1], color='navy', lw=2, linestyle='--')\n",
    "plt.xlim([0.0, 1.0])\n",
    "plt.ylim([0.0, 1.05])\n",
    "plt.xlabel('Tasa de Falsos Positivos')\n",
    "plt.ylabel('Tasa de Verdaderos Positivos')\n",
    "plt.title('Curvas ROC - Múltiples repeticiones')\n",
    "plt.legend(loc=\"lower right\")\n",
    "plt.tight_layout()\n",
    "plt.show()"
   ]
  }
 ],
 "metadata": {
  "kernelspec": {
   "display_name": "anaconda-ai-2024.04-py310",
   "language": "python",
   "name": "conda-env-anaconda-ai-2024.04-py310-py"
  },
  "language_info": {
   "codemirror_mode": {
    "name": "ipython",
    "version": 3
   },
   "file_extension": ".py",
   "mimetype": "text/x-python",
   "name": "python",
   "nbconvert_exporter": "python",
   "pygments_lexer": "ipython3",
   "version": "3.10.13"
  }
 },
 "nbformat": 4,
 "nbformat_minor": 5
}
