{
 "cells": [
  {
   "cell_type": "code",
   "execution_count": null,
   "id": "2e787a04-1b5e-4f15-a0b8-0775999b66fd",
   "metadata": {},
   "outputs": [],
   "source": [
    "# pip install scikit-optimize"
   ]
  },
  {
   "cell_type": "code",
   "execution_count": null,
   "id": "b1304f6c-27fd-4fa8-a50e-3df5aacdd470",
   "metadata": {},
   "outputs": [],
   "source": [
    "# ==========================================================\n",
    "# Maestría en Ciencia y Análisis de Datos\n",
    "# Universidad Mayor de San Andrés\n",
    "# ----------------------------------------------------------\n",
    "#            Machine Learning y Deep Learning\n",
    "# ----------------------------------------------------------\n",
    "#         Rolando Gonzales Martinez, Agosto 2024\n",
    "# ==========================================================\n",
    "#     Validación cruzada e Hypertuning con algoritmos \n",
    "#     GridSearchCV, RandomizedSearchCV, BayesSearchCV:\n",
    "#          Clasificadores supervisados basados en \n",
    "#             Máquinas de Soporte Vectorial\n",
    "# ==========================================================\n",
    "import pandas as pd\n",
    "from sklearn.model_selection import train_test_split, GridSearchCV, RandomizedSearchCV\n",
    "from skopt import BayesSearchCV\n",
    "from sklearn.svm import SVC\n",
    "from sklearn.metrics import classification_report, accuracy_score"
   ]
  },
  {
   "cell_type": "code",
   "execution_count": null,
   "id": "b7501c9e-87a1-4403-8a75-cf5c2d47c838",
   "metadata": {},
   "outputs": [],
   "source": [
    "# Cargar el conjunto de datos:\n",
    "url = 'https://raw.githubusercontent.com/rogon666/UMSA/main/AIMLDL/Datos/enfermedades_cardiacas.csv'\n",
    "\n",
    "# Cargar los datos en un DataFrame\n",
    "df= pd.read_csv(url)\n",
    "\n",
    "# Mostrar las primeras filas del DataFrame\n",
    "print(df.head())"
   ]
  },
  {
   "cell_type": "code",
   "execution_count": null,
   "id": "d1176450-f5ca-4894-b757-a4ffd793b2f1",
   "metadata": {},
   "outputs": [],
   "source": [
    "# Pre-procesamiento y preparación:\n",
    "\n",
    "# Imputar los valores faltantes\n",
    "df['talasemia'] = df['talasemia'].fillna(df['talasemia'].mean())\n",
    "df['numerovasos'] = df['numerovasos'].fillna(df['numerovasos'].mean())\n",
    "\n",
    "y = df['diagnostico'].map({0: 0, 1: 1, 2: 1, 3: 1, 4: 1})\n",
    "\n",
    "# Etiquetas de las clases\n",
    "etiquetas = ['sin enfermedad cardiaca', 'con enfermedad cardiaca']\n",
    "\n",
    "# Seleccionar las columnas numéricas y convertir las categóricas a variables dummies\n",
    "numerical_cols = ['edad','presion','colesterol','ritmocardiaco','numerovasos','caidast']\n",
    "categorical_cols = ['sexo', 'talasemia', 'dolorpecho','electrocardiograma']\n",
    "\n",
    "# Convertir las variables categóricas a dummies\n",
    "df_categorical_dummies = pd.get_dummies(df[categorical_cols], drop_first=True)\n",
    "\n",
    "# Crear la matriz X con las variables numéricas y categóricas recodificadas binarias\n",
    "X = pd.concat([df[numerical_cols], df_categorical_dummies], axis=1)\n"
   ]
  },
  {
   "cell_type": "code",
   "execution_count": null,
   "id": "75171c45-e771-4bb1-b4ca-a9784732abd4",
   "metadata": {},
   "outputs": [],
   "source": [
    "# Dividir el dataset en conjunto de entrenamiento y prueba\n",
    "semilla = \n",
    "porcentaje_entrenamiento =  \n",
    "X_train, X_test, y_train, y_test = train_test_split(X, y, \n",
    "                                                    test_size=1 - porcentaje_entrenamiento,\n",
    "                                                    random_state=semilla)"
   ]
  },
  {
   "cell_type": "code",
   "execution_count": null,
   "id": "67e5acfa-50b5-46fd-8d29-732bddbc4206",
   "metadata": {},
   "outputs": [],
   "source": [
    "# Definir el modelo:\n",
    "svc = SVC()\n",
    "\n",
    "# Definir un grilla de hiperparámetros a probar \n",
    "param_grid = {\n",
    "    'C': [0.01, 0.1, 1, 10, 100],\n",
    "    'gamma': [1, 0.1, 0.01, 0.001],\n",
    "    'kernel': ['rbf', 'linear']\n",
    "}"
   ]
  },
  {
   "cell_type": "code",
   "execution_count": null,
   "id": "3bf5748f-3e0f-4228-8d87-f0396d764af3",
   "metadata": {},
   "outputs": [],
   "source": [
    "# Configurar la búsqueda en cuadrícula con validación cruzada\n",
    "grid_search = GridSearchCV(svc, param_grid, \n",
    "                           refit=True, \n",
    "                           verbose=3, \n",
    "                           cv=5)\n",
    "\n",
    "# Entrenar el modelo\n",
    "grid_search.fit(X_train, y_train)\n",
    "\n",
    "# Predecir en el conjunto de prueba\n",
    "y_pred = grid_search.predict(X_test)\n",
    "\n",
    "# Evaluar el modelo\n",
    "print(\"Mejores hiperparámetros:\", grid_search.best_params_)\n",
    "print(\"Exactitud en el conjunto de prueba:\", accuracy_score(y_test, y_pred))\n",
    "print(\"Reporte de clasificación:\\n\", classification_report(y_test, y_pred, \n",
    "                                                           target_names=etiquetas))"
   ]
  },
  {
   "cell_type": "code",
   "execution_count": null,
   "id": "1bd8e57f-8e94-4a0c-8b93-3ebad2713bc5",
   "metadata": {},
   "outputs": [],
   "source": [
    "# Búsqueda aleatoria con validación cruzada\n",
    "semilla = \n",
    "random_search = RandomizedSearchCV(svc,\n",
    "                                   param_distributions=param_grid, \n",
    "                                   n_iter=10, # muestras\n",
    "                                   refit=True, # Reajuste con la muestra completa\n",
    "                                   verbose=3, \n",
    "                                   cv=5, # k-folds\n",
    "                                   random_state=semilla)\n",
    "\n",
    "# Entrenar el modelo\n",
    "random_search.fit(X_train, y_train)\n",
    "\n",
    "# Predecir en el conjunto de prueba\n",
    "y_pred = random_search.predict(X_test)\n",
    "\n",
    "# Evaluar el modelo\n",
    "print(\"Mejores hiperparámetros:\", random_search.best_params_)\n",
    "print(\"Exactitud en el conjunto de prueba:\", accuracy_score(y_test, y_pred))\n",
    "print(\"Reporte de clasificación:\\n\", classification_report(y_test, y_pred, target_names=etiquetas))\n"
   ]
  },
  {
   "cell_type": "code",
   "execution_count": null,
   "id": "55edd938-75bb-43c3-85ec-e420cdac18e4",
   "metadata": {},
   "outputs": [],
   "source": [
    "# Definir el espacio de búsqueda\n",
    "search_spaces = {\n",
    "    'C': (0.01, 1000, 'log-uniform'),\n",
    "    'gamma': (0.001, 1, 'log-uniform'),\n",
    "    'kernel': ['linear', 'rbf']\n",
    "}\n",
    "'''\n",
    "    'C': [0.01, 0.1, 1, 10, 100],\n",
    "    'gamma': [1, 0.1, 0.01, 0.001],\n",
    "    'kernel': ['rbf', 'linear']\n",
    "'''\n",
    "\n",
    "# Configurar BayesSearchCV\n",
    "opt = BayesSearchCV(\n",
    "    estimator=SVC(),\n",
    "    search_spaces=search_spaces,\n",
    "    n_iter=32,  # Número de iteraciones de búsqueda\n",
    "    cv=5,  # Validación cruzada\n",
    "    n_jobs=-1,  # Uso de todos los núcleos disponibles\n",
    "    verbose=3,  # Nivel de verbosidad\n",
    "    random_state=42\n",
    ")\n",
    "\n",
    "# Entrenar el modelo\n",
    "opt.fit(X_train, y_train)\n",
    "\n",
    "# Evaluar el rendimiento\n",
    "print(\"Mejores hiperparámetros:\", opt.best_params_)\n",
    "print(\"Exactitud en el conjunto de prueba:\", opt.score(X_test, y_test))\n"
   ]
  }
 ],
 "metadata": {
  "kernelspec": {
   "display_name": "anaconda-ai-2024.04-py310",
   "language": "python",
   "name": "conda-env-anaconda-ai-2024.04-py310-py"
  },
  "language_info": {
   "codemirror_mode": {
    "name": "ipython",
    "version": 3
   },
   "file_extension": ".py",
   "mimetype": "text/x-python",
   "name": "python",
   "nbconvert_exporter": "python",
   "pygments_lexer": "ipython3",
   "version": "3.10.13"
  }
 },
 "nbformat": 4,
 "nbformat_minor": 5
}
