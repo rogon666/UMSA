{
 "cells": [
  {
   "cell_type": "code",
   "execution_count": null,
   "id": "2f025760-6d7e-4a03-b0d0-b60bad804c8f",
   "metadata": {},
   "outputs": [],
   "source": [
    "# ==========================================================\n",
    "# Maestría en Ciencia y Análisis de Datos\n",
    "# Universidad Mayor de San Andrés\n",
    "# ----------------------------------------------------------\n",
    "#           Machine Learning y Deep Learning\n",
    "# ----------------------------------------------------------\n",
    "#        Rolando Gonzales Martinez, Agosto 2024\n",
    "# ==========================================================\n",
    "#          Inteligenca artificial bicefala: \n",
    "#          Kourai Khryseai (Κουραι Χρυσεαι)\n",
    "# ==========================================================\n",
    "import random"
   ]
  },
  {
   "cell_type": "code",
   "execution_count": null,
   "id": "61ded259-8439-49e8-91f6-3870a7b9a6df",
   "metadata": {},
   "outputs": [],
   "source": [
    "# AI bicefala Kourai Khryseai (doncellas doradas)\n",
    "class KouraiKhryseai:\n",
    "    def __init__(self, nombre, sabiduria):\n",
    "        self.nombre = nombre  # Nombre de la doncella dorada\n",
    "        self.sabiduria = sabiduria  # Lista de consejos de sabiduría\n",
    "\n",
    "    def dar_consejo(self):\n",
    "        \"\"\"Devuelve un consejo de sabiduría aleatorio\"\"\"\n",
    "        consejo = random.choice(self.sabiduria)\n",
    "        print(f\"{self.nombre} dice: {consejo}\")\n",
    "\n",
    "# Crear dos Kourai Khryseai\n",
    "doncellas = [\n",
    "    KouraiKhryseai(\"Keira Sourkhai\", [\n",
    "        \"La paciencia es la llave del éxito.\",\n",
    "        \"Conócete a ti mismo.\",\n",
    "        \"El conocimiento es poder, pero la sabiduría es utilizarlo correctamente.\",\n",
    "        \"El silencio es una fuente de gran poder.\",\n",
    "        \"La sabiduría comienza con la humildad.\"\n",
    "    ]),\n",
    "    KouraiKhryseai(\"Arise Khouriak\", [\n",
    "        \"La educación es el adorno de la prosperidad y el refugio en la adversidad (Aristóteles).\",\n",
    "        \"El hombre es la medida de todas las cosas (Protágoras).\",\n",
    "        \"La mayor victoria es la que se gana sobre uno mismo (Platón).\",\n",
    "        \"De la conducta de cada uno depende el destino de todos (Esopo).\",\n",
    "        \"La felicidad depende de nosotros mismos (Aristóteles).\"\n",
    "    ])\n",
    "]\n",
    "\n",
    "def interactuar_con_doncella(doncellas):\n",
    "    \"\"\"Permite al usuario preguntar y recibir consejos de las doncellas doradas\"\"\"\n",
    "    while True:\n",
    "        print(\"\\n¿De cuál Doncella Dorada quieres recibir un consejo?\")\n",
    "        for i, doncella in enumerate(doncellas):\n",
    "            print(f\"{i + 1}. {doncella.nombre}\")\n",
    "        print(f\"{len(doncellas) + 1}. Salir\")\n",
    "\n",
    "        eleccion = int(input(\"Elige un número: \"))\n",
    "        if eleccion == len(doncellas) + 1:\n",
    "            print(\"Adiós. Que la sabiduría te acompañe.\")\n",
    "            break\n",
    "        elif 1 <= eleccion <= len(doncellas):\n",
    "            doncellas[eleccion - 1].dar_consejo()\n",
    "        else:\n",
    "            print(\"Elección no válida. Por favor, elige de nuevo.\")"
   ]
  },
  {
   "cell_type": "code",
   "execution_count": null,
   "id": "d010b4fc-cd96-4a22-977d-8bf78fa5ecad",
   "metadata": {},
   "outputs": [],
   "source": [
    "# Interactuar con la AI de doncellas doradas de Hefesio\n",
    "interactuar_con_doncella(doncellas)"
   ]
  }
 ],
 "metadata": {
  "kernelspec": {
   "display_name": "anaconda-ai-2024.04-py310",
   "language": "python",
   "name": "conda-env-anaconda-ai-2024.04-py310-py"
  },
  "language_info": {
   "codemirror_mode": {
    "name": "ipython",
    "version": 3
   },
   "file_extension": ".py",
   "mimetype": "text/x-python",
   "name": "python",
   "nbconvert_exporter": "python",
   "pygments_lexer": "ipython3",
   "version": "3.10.13"
  }
 },
 "nbformat": 4,
 "nbformat_minor": 5
}
