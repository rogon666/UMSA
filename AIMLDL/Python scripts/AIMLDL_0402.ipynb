{
 "cells": [
  {
   "cell_type": "code",
   "execution_count": null,
   "id": "bd2825b3-76e2-4d61-8294-c25472d49efb",
   "metadata": {},
   "outputs": [],
   "source": [
    "# ==========================================================\n",
    "# Maestría en Ciencia y Análisis de Datos\n",
    "# Universidad Mayor de San Andrés\n",
    "# ----------------------------------------------------------\n",
    "#           Machine Learning y Deep Learning\n",
    "# ----------------------------------------------------------\n",
    "#        Rolando Gonzales Martinez, Agosto 2024\n",
    "# ==========================================================\n",
    "#            Validacion cruzada k-fold \n",
    "#                       y \n",
    "#         validacion cruzada estratificada\n",
    "# ==========================================================\n",
    "import numpy as np\n",
    "import pandas as pd\n",
    "import xgboost as xgb\n",
    "from sklearn.model_selection import StratifiedKFold, KFold, cross_val_score\n",
    "from sklearn.metrics import roc_auc_score, make_scorer\n",
    "from sklearn.model_selection import train_test_split\n",
    "from sklearn.metrics import roc_curve, auc\n",
    "import matplotlib.pyplot as plt"
   ]
  },
  {
   "cell_type": "code",
   "execution_count": null,
   "id": "0726801f-91b2-455a-8356-0a54f7cd3d28",
   "metadata": {},
   "outputs": [],
   "source": [
    "# Cargar el conjunto de datos:\n",
    "url = 'https://raw.githubusercontent.com/rogon666/UMSA/main/AIMLDL/Datos/mortalidad_cochabamba.csv'\n",
    "\n",
    "# Cargar los datos en un DataFrame\n",
    "df_mortalidad = pd.read_csv(url)\n",
    "\n",
    "# Mostrar las primeras filas del DataFrame\n",
    "print(df_mortalidad.head())"
   ]
  },
  {
   "cell_type": "code",
   "execution_count": null,
   "id": "b7422e91-0c6e-40a3-8946-5b89d2cfef5c",
   "metadata": {},
   "outputs": [],
   "source": [
    "# Preprocesamiento y preparacion de datos:\n",
    "# Dropear la categoría \"Subita\" de la columna \"causa_muertes\"\n",
    "df_mortalidad = df_mortalidad[df_mortalidad['causa_muertes'] != 'Subita']\n",
    "\n",
    "# Crear la variable target: 1 si \"causa_muertes\" es \"Suicidio\", 0 si es \"Natural\"\n",
    "df_mortalidad['target'] = df_mortalidad['causa_muertes'].apply(lambda x: 1 if x == 'Suicidio' else 0)\n",
    "\n",
    "# Seleccionar las columnas numéricas y convertir las categóricas a variables dummies\n",
    "numerical_cols = ['edad']\n",
    "categorical_cols = ['depto_nacimiento', 'lugar_de_fallecimiento', 'estado_civil', \n",
    "                    'grado_instruccion', 'tuvo_atencion_medica', 'atendio_el_medico_que_suscribe']\n",
    "\n",
    "# Convertir las variables categóricas a dummies\n",
    "df_categorical_dummies = pd.get_dummies(df_mortalidad[categorical_cols], drop_first=True)\n",
    "\n",
    "# Crear la matriz X con las variables numéricas y categóricas recodificadas binarias\n",
    "X = pd.concat([df_mortalidad[numerical_cols], df_categorical_dummies], axis=1)\n",
    "\n",
    "# Mostrar las primeras filas de la matriz X y la variable target\n",
    "X.head(), df_mortalidad['target'].head()"
   ]
  },
  {
   "cell_type": "code",
   "execution_count": null,
   "id": "85d32f7d-041c-4a4d-a9a6-1e57979426a1",
   "metadata": {},
   "outputs": [],
   "source": [
    "# Verificar el balance de la variable target\n",
    "balance_target = df_mortalidad['target'].value_counts(normalize=True)\n",
    "balance_target"
   ]
  },
  {
   "cell_type": "code",
   "execution_count": null,
   "id": "4e1722cd-393e-4a65-99e0-30cfa2316806",
   "metadata": {},
   "outputs": [],
   "source": [
    "# Verificar el balance de la variable target\n",
    "balance_target = df_mortalidad['target'].value_counts()\n",
    "balance_target"
   ]
  },
  {
   "cell_type": "code",
   "execution_count": null,
   "id": "2ef7e068-8181-4a42-a758-ee195814cd7c",
   "metadata": {},
   "outputs": [],
   "source": [
    "# Definir la variable target\n",
    "y = df_mortalidad['target']\n",
    "\n",
    "# Definir el modelo de XGBoost\n",
    "semilla = \n",
    "modelo = xgb.XGBClassifier(random_state=semilla)"
   ]
  },
  {
   "cell_type": "code",
   "execution_count": null,
   "id": "b0546fc2-908c-4416-9bbe-2d49d3a7db56",
   "metadata": {},
   "outputs": [],
   "source": [
    "# Validación cruzada k-fold\n",
    "particiones_k =  # Particiones de los datos, en este ejemplo: 3 partes\n",
    "\n",
    "kf = KFold(n_splits=particiones_k, \n",
    "           shuffle= , \n",
    "           random_state=semilla)\n",
    "\n",
    "# Definir la métrica de AUC\n",
    "auc_scorer = make_scorer(roc_auc_score)\n",
    "\n",
    "# Realizar la validación cruzada k-fold y calcular el AUC para cada fold\n",
    "cv_auc_scores = cross_val_score(modelo, X, y, cv=kf, scoring=auc_scorer)\n",
    "\n",
    "# Mostrar los resultados de AUC para cada fold y la media\n",
    "print(f'AUC en cada fold: {cv_auc_scores}')\n",
    "print(f'AUC promedio: {cv_auc_scores.mean()}')\n",
    "\n",
    "# Crear un gráfico de barras con los resultados de AUC en cada fold\n",
    "mean_auc = cv_auc_scores.mean()\n",
    "folds = np.arange(1, len(cv_auc_scores) + 1)\n",
    "\n",
    "plt.figure(figsize=(4, 4))\n",
    "plt.bar(folds, np.array(cv_auc_scores), color='skyblue', edgecolor='black')\n",
    "plt.axhline(y=mean_auc, color='r', linestyle='--', label=f'AUC promedio = {mean_auc:.2f}')\n",
    "\n",
    "# Configurar etiquetas y título\n",
    "plt.xlabel('Fold')\n",
    "plt.ylabel('AUC')\n",
    "plt.title('AUC - Validación cruzada k-fold')\n",
    "plt.xticks(folds)\n",
    "plt.ylim(0.2, 1.0)  # Ajustar los límites de y para una mejor visualización\n",
    "plt.legend(loc='lower right')\n",
    "plt.grid(axis='y', linestyle='--', alpha=0.7)\n",
    "plt.show()"
   ]
  },
  {
   "cell_type": "code",
   "execution_count": null,
   "id": "d0ab9643-0f4e-4b62-bec0-b880464f6937",
   "metadata": {},
   "outputs": [],
   "source": [
    "# Validación cruzada k-fold estratificada\n",
    "particiones_k =  # Particiones de los datos, en este ejemplo: 9 partes (maximo)\n",
    "\n",
    "skf = StratifiedKFold(n_splits=particiones_k, \n",
    "                      shuffle=True, \n",
    "                      random_state=semilla)\n",
    "\n",
    "# Definir la métrica de AUC\n",
    "auc_scorer = make_scorer(roc_auc_score)\n",
    "\n",
    "# Realizar la validación cruzada k-fold estratificada y calcular el AUC para cada fold\n",
    "cv_auc_scores = cross_val_score(modelo, X, y, cv=skf, scoring=auc_scorer)\n",
    "\n",
    "# Mostrar los resultados de AUC para cada fold y la media\n",
    "print(f'AUC para cada fold: {cv_auc_scores}')\n",
    "print(f'AUC promedio: {cv_auc_scores.mean()}')\n",
    "\n",
    "# Crear un gráfico de barras con los resultados de AUC en cada fold\n",
    "mean_auc = cv_auc_scores.mean()\n",
    "folds = np.arange(1, len(cv_auc_scores) + 1)\n",
    "\n",
    "plt.figure(figsize=(4, 4))\n",
    "plt.bar(folds, np.array(cv_auc_scores), color='skyblue', edgecolor='black')\n",
    "plt.axhline(y=mean_auc, color='r', linestyle='--', label=f'AUC promedio = {mean_auc:.2f}')\n",
    "\n",
    "# Configurar etiquetas y título\n",
    "plt.xlabel('Fold')\n",
    "plt.ylabel('AUC')\n",
    "plt.title('AUC - Validación cruzada k-fold estratificada')\n",
    "plt.xticks(folds)\n",
    "plt.ylim(0.2, 1.0)  # Ajustar los límites de y para una mejor visualización\n",
    "plt.legend(loc='lower right')\n",
    "plt.grid(axis='y', linestyle='--', alpha=0.7)\n",
    "plt.show()"
   ]
  }
 ],
 "metadata": {
  "kernelspec": {
   "display_name": "anaconda-ai-2024.04-py310",
   "language": "python",
   "name": "conda-env-anaconda-ai-2024.04-py310-py"
  },
  "language_info": {
   "codemirror_mode": {
    "name": "ipython",
    "version": 3
   },
   "file_extension": ".py",
   "mimetype": "text/x-python",
   "name": "python",
   "nbconvert_exporter": "python",
   "pygments_lexer": "ipython3",
   "version": "3.10.13"
  }
 },
 "nbformat": 4,
 "nbformat_minor": 5
}
