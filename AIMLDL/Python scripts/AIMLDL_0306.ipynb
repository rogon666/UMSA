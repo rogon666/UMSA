{
 "cells": [
  {
   "cell_type": "code",
   "execution_count": null,
   "id": "de7899bc-c727-4e8f-9775-ff4452d497ed",
   "metadata": {},
   "outputs": [],
   "source": [
    "# pip install shap boruta"
   ]
  },
  {
   "cell_type": "code",
   "execution_count": null,
   "id": "961415b2-0164-4c66-bd2b-4c3fa2987c7a",
   "metadata": {},
   "outputs": [],
   "source": [
    "# ==========================================================\n",
    "# Maestría en Ciencia y Análisis de Datos\n",
    "# Universidad Mayor de San Andrés\n",
    "# ----------------------------------------------------------\n",
    "#           Machine Learning y Deep Learning\n",
    "# ----------------------------------------------------------\n",
    "#        Rolando Gonzales Martinez, Agosto 2024\n",
    "# ==========================================================\n",
    "#                Feature selection\n",
    "# ==========================================================\n",
    "import pandas as pd\n",
    "import shap\n",
    "import numpy as np\n",
    "from boruta import BorutaPy\n",
    "from sklearn.linear_model import ElasticNetCV\n",
    "from sklearn.ensemble import RandomForestClassifier\n",
    "from sklearn.model_selection import train_test_split\n",
    "import matplotlib.pyplot as plt\n",
    "from lime.lime_tabular import LimeTabularExplainer"
   ]
  },
  {
   "cell_type": "code",
   "execution_count": null,
   "id": "7f872475-432c-4a25-9b8a-bceae988c67b",
   "metadata": {},
   "outputs": [],
   "source": [
    "# Cargar el conjunto de datos:\n",
    "url = 'https://raw.githubusercontent.com/rogon666/UMSA/main/AIMLDL/Datos/enfermedades_cardiacas.csv'\n",
    "\n",
    "# Cargar los datos en un DataFrame\n",
    "df= pd.read_csv(url)\n",
    "\n",
    "# Mostrar las primeras filas del DataFrame\n",
    "print(df.head())"
   ]
  },
  {
   "cell_type": "code",
   "execution_count": null,
   "id": "2f25662a-a9a4-418f-956e-93b375101668",
   "metadata": {},
   "outputs": [],
   "source": [
    "# Pre-procesamiento y preparacion:\n",
    "\n",
    "# Imputar los valores faltantes\n",
    "df['talasemia'] = df['talasemia'].fillna(df['talasemia'].mean())\n",
    "df['numerovasos'] = df['numerovasos'].fillna(df['numerovasos'].mean())\n",
    "\n",
    "# Preparar los datos para el modelo\n",
    "X = df.drop('diagnostico', axis=1)\n",
    "y = df['diagnostico'].map({0: 0, 1: 1, 2: 1, 3: 1, 4: 1})"
   ]
  },
  {
   "cell_type": "code",
   "execution_count": null,
   "id": "e71631b6-bbe8-4a41-b0bc-7fc4c72ac324",
   "metadata": {},
   "outputs": [],
   "source": [
    "# Dividir el dataset en conjunto de entrenamiento y prueba\n",
    "semilla = 666\n",
    "X_train, X_test, y_train, y_test = train_test_split(X, y, \n",
    "                                                    test_size=0.2, \n",
    "                                                    random_state=semilla)\n",
    "# Usaremos un modelo RandomForest como estimador benchmark\n",
    "bosque_aleatorio = RandomForestClassifier(random_state=semilla)"
   ]
  },
  {
   "cell_type": "code",
   "execution_count": null,
   "id": "104279b4-a1b5-4c06-84a9-5002626c6766",
   "metadata": {},
   "outputs": [],
   "source": [
    "# 1. Selección de Características con Boruta\n",
    "# Iniciar Boruta\n",
    "boruta_selector = BorutaPy(estimator=bosque_aleatorio, \n",
    "                           verbose=2, \n",
    "                           n_estimators = 'auto',\n",
    "                           random_state=semilla)\n",
    "\n",
    "# Ajustar Boruta a los datos de entrenamiento\n",
    "boruta_selector.fit(X_train.values, y_train.values)\n",
    "\n",
    "# Características seleccionadas por Boruta\n",
    "selected_features_boruta = X.columns[boruta_selector.support_].to_list()\n",
    "print(\"Características seleccionadas por Boruta:\")\n",
    "print(selected_features_boruta)"
   ]
  },
  {
   "cell_type": "code",
   "execution_count": null,
   "id": "5b104791-ef1b-4dc2-a443-8e48287c9aec",
   "metadata": {},
   "outputs": [],
   "source": [
    "# Explicador SHAP utilizando TreeExplainer (más eficiente para modelos basados en árboles)\n",
    "bosque_aleatorio.fit(X_train, y_train)\n",
    "explainer = shap.TreeExplainer(bosque_aleatorio)\n",
    "\n",
    "# Obtener los valores SHAP\n",
    "shap_values = explainer.shap_values(X_train)\n",
    "\n",
    "# Identificar las características más importantes según SHAP\n",
    "shap_importances = pd.DataFrame(list(zip(X.columns, np.abs(shap_values[1]).mean(axis=0))), columns=['feature', 'shap_importance'])\n",
    "shap_importances = shap_importances.sort_values(by='shap_importance', ascending=False)\n",
    "print(\"Características más importantes según SHAP:\")\n",
    "print(shap_importances)\n",
    "\n",
    "# Guardar las características seleccionadas por SHAP en una lista\n",
    "selected_features_shap = shap_importances[shap_importances['shap_importance'] > shap_importances['shap_importance'].mean()]['feature'].to_list()\n",
    "print(\"Características seleccionadas por SHAP:\")\n",
    "print(selected_features_shap)"
   ]
  },
  {
   "cell_type": "code",
   "execution_count": null,
   "id": "980b94b7-d231-498d-b9a1-74f83871a2ee",
   "metadata": {},
   "outputs": [],
   "source": [
    "# 2. Selección de Características con SHAP\n",
    "# Entrenar un model SVM con todas las características:\n",
    "from sklearn.svm import SVC\n",
    "\n",
    "model = SVC(probability=True,\n",
    "            kernel='linear', random_state=666)\n",
    "model.fit(X_train, y_train)\n",
    "\n",
    "# Explicador SHAP utilizando KernelExplainer\n",
    "explainer = shap.KernelExplainer(model.predict_proba, X_train)\n",
    "\n",
    "# Obtener los valores SHAP\n",
    "shap_values = explainer.shap_values(X_train)\n",
    "\n",
    "# Identificar las características más importantes según SHAP\n",
    "shap_importances = pd.DataFrame(list(zip(X.columns, np.abs(shap_values[1]).mean(axis=0))), columns=['feature', 'shap_importance'])\n",
    "shap_importances = shap_importances.sort_values(by='shap_importance', ascending=False)\n",
    "print(\"Características más importantes según SHAP:\")\n",
    "print(shap_importances)\n",
    "\n",
    "# Guardar las características seleccionadas por SHAP en una lista\n",
    "selected_features_shap = shap_importances[shap_importances['shap_importance'] > shap_importances['shap_importance'].mean()]['feature'].to_list()\n",
    "print(\"Características seleccionadas por SHAP:\")\n",
    "print(selected_features_shap)\n",
    "# sexo: Sexo del individuo, 1 = hombre, 0 = mujer"
   ]
  }
 ],
 "metadata": {
  "kernelspec": {
   "display_name": "anaconda-ai-2024.04-py310",
   "language": "python",
   "name": "conda-env-anaconda-ai-2024.04-py310-py"
  },
  "language_info": {
   "codemirror_mode": {
    "name": "ipython",
    "version": 3
   },
   "file_extension": ".py",
   "mimetype": "text/x-python",
   "name": "python",
   "nbconvert_exporter": "python",
   "pygments_lexer": "ipython3",
   "version": "3.10.13"
  }
 },
 "nbformat": 4,
 "nbformat_minor": 5
}
