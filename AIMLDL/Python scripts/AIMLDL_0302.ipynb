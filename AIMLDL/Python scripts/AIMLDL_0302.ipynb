{
 "cells": [
  {
   "cell_type": "code",
   "execution_count": null,
   "id": "464fac81-f947-45f9-9867-a207836bb84d",
   "metadata": {},
   "outputs": [],
   "source": [
    "# ==========================================================\n",
    "# Maestría en Ciencia y Análisis de Datos\n",
    "# Universidad Mayor de San Andrés\n",
    "# ----------------------------------------------------------\n",
    "#           Machine Learning y Deep Learning\n",
    "# ----------------------------------------------------------\n",
    "#        Rolando Gonzales Martinez, Agosto 2024\n",
    "# ==========================================================\n",
    "#    Identificacion de anomalias y tratamiento de datos\n",
    "# ==========================================================\n",
    "import pandas as pandita\n",
    "from scipy import stats\n",
    "import numpy as np\n",
    "from sklearn.ensemble import IsolationForest\n",
    "from sklearn.neighbors import LocalOutlierFactor\n",
    "from scipy.stats.mstats import winsorize\n",
    "import matplotlib.pyplot as plt"
   ]
  },
  {
   "cell_type": "code",
   "execution_count": null,
   "id": "4b722367-d6d7-4be4-87d0-54a9086fed98",
   "metadata": {},
   "outputs": [],
   "source": [
    "# Cargar el conjunto de datos:\n",
    "url = 'https://raw.githubusercontent.com/rogon666/UMSA/main/AIMLDL/Datos/salarios.csv'\n",
    "\n",
    "# Cargar los datos en un DataFrame\n",
    "df= pandita.read_csv(url)\n",
    "\n",
    "# Mostrar las primeras filas del DataFrame\n",
    "print(df.head())"
   ]
  },
  {
   "cell_type": "code",
   "execution_count": null,
   "id": "c666dcfa-5634-44a5-8071-ad8261edd5f5",
   "metadata": {},
   "outputs": [],
   "source": [
    "# Graficos\n",
    "plt.figure(figsize=(4, 4))\n",
    "plt.hist(df['salario'], bins=30, edgecolor='black', color='skyblue')\n",
    "plt.title('Histograma de los salarios')\n",
    "plt.xlabel('Salarios')\n",
    "plt.ylabel('Frecuencia')\n",
    "plt.grid(True)\n",
    "plt.show()\n",
    "\n",
    "plt.figure(figsize=(4, 4))\n",
    "plt.boxplot(df['salario'], vert=False, patch_artist=True, boxprops=dict(facecolor='skyblue'))\n",
    "plt.title('Diagrama de caja')\n",
    "plt.xlabel('Salarios')\n",
    "plt.grid(True)\n",
    "plt.show()"
   ]
  },
  {
   "cell_type": "code",
   "execution_count": null,
   "id": "366dda85-d451-4cde-8fd5-cee241daddfa",
   "metadata": {},
   "outputs": [],
   "source": [
    "# Features de la base de datos\n",
    "features = df[['salario', 'educacion', 'edad', 'antiguedad', 'ventas_valor_empresa']]\n",
    "\n",
    "# Isolation Forest\n",
    "grado_de_contaminacion = \n",
    "iso_forest = IsolationForest(contamination=)\n",
    "# contamination: proporcion esperada de anomalias (outliers)\n",
    "\n",
    "df['iso_forest_anomaly'] = iso_forest.fit_predict(features)\n",
    "\n",
    "# Local Outlier Factor (LOF)\n",
    "lof = LocalOutlierFactor(n_neighbors=20, \n",
    "                         contamination=)\n",
    "# Un número bajo de vecinos hace al modelo más sensible a anomalias especificas\n",
    "df['lof_anomaly'] = lof.fit_predict(features)\n",
    "\n",
    "# Resultados\n",
    "df['iso_forest_anomaly'] = df['iso_forest_anomaly'].map({1: 'Normal', -1: 'Anomaly'})\n",
    "df['lof_anomaly'] = df['lof_anomaly'].map({1: 'Normal', -1: 'Anomaly'})\n",
    "df[['salario', 'iso_forest_anomaly', 'lof_anomaly']].head()"
   ]
  },
  {
   "cell_type": "code",
   "execution_count": null,
   "id": "9bc62148-a5d5-4f77-9cbb-040d16ec27a7",
   "metadata": {},
   "outputs": [],
   "source": [
    "# Función para aplicar el test de Grubbs\n",
    "def grubbs_test(data, alpha=0.05):\n",
    "    \"\"\"\n",
    "    Aplica el test de Grubbs para detectar un outlier en un conjunto de datos.\n",
    "    :param data: Lista o array de datos\n",
    "    :param alpha: Nivel de significancia (típicamente 0.05)\n",
    "    :return: Si se encuentra un outlier, se muestra el valor y su índice.\n",
    "    \"\"\"\n",
    "    n = len(data)\n",
    "    mean_data = np.mean(data)\n",
    "    std_data = np.std(data, ddof=1)\n",
    "    \n",
    "    G = np.max(np.abs(data - mean_data)) / std_data\n",
    "    t_dist = stats.t.ppf(1 - alpha / (2 * n), n - 2)\n",
    "    threshold = ((n - 1) / np.sqrt(n)) * np.sqrt(t_dist**2 / (n - 2 + t_dist**2))\n",
    "    \n",
    "    if G > threshold:\n",
    "        outlier_index = np.argmax(np.abs(data - mean_data))\n",
    "        return f\"Outlier encontrado: Valor = {data[outlier_index]}, Índice (posicion en los datos) = {outlier_index}\"\n",
    "    else:\n",
    "        return \"No se encontró ningún outlier significativo\"\n",
    "\n",
    "# Aplicando el test de Grubbs a la columna de salarios\n",
    "resultado = grubbs_test(df['salario'].values)\n",
    "resultado\n"
   ]
  },
  {
   "cell_type": "code",
   "execution_count": null,
   "id": "5ac7898c-af0f-4c11-908c-3ebaab7199f6",
   "metadata": {},
   "outputs": [],
   "source": [
    "# Ejemplo de transformación logarítmica\n",
    "df['salario_log'] = np.log(df['salario'] + 1)  # +1 para evitar log(0)\n",
    "\n",
    "plt.figure(figsize=(4, 4))\n",
    "plt.hist(df['salario_log'], bins=30, edgecolor='black', color='skyblue')\n",
    "plt.title('Histograma de los salarios en logaritmos')\n",
    "plt.xlabel('Salarios en logaritmos')\n",
    "plt.ylabel('Frecuencia')\n",
    "plt.grid(True)\n",
    "plt.show()\n",
    "\n",
    "plt.figure(figsize=(4, 4))\n",
    "plt.boxplot(df['salario_log'], vert=False, patch_artist=True, boxprops=dict(facecolor='skyblue'))\n",
    "plt.title('Diagrama de caja')\n",
    "plt.xlabel('Salarios en logaritmos')\n",
    "plt.grid(True)\n",
    "plt.show()"
   ]
  },
  {
   "cell_type": "code",
   "execution_count": null,
   "id": "d28f9ee7-c533-42fd-9484-5b130b47882b",
   "metadata": {},
   "outputs": [],
   "source": [
    "# Ejemplo de winsorización\n",
    "df['salario_winsorizado'] = winsorize(df['salario'], limits=[0.01, 0.05])\n",
    "\n",
    "plt.figure(figsize=(4, 4))\n",
    "plt.hist(df['salario_winsorizado'], bins=30, edgecolor='black', color='skyblue')\n",
    "plt.title('Histograma de los salarios winsorizados')\n",
    "plt.xlabel('Salarios winsorizados')\n",
    "plt.ylabel('Frecuencia')\n",
    "plt.grid(True)\n",
    "plt.show()\n",
    "\n",
    "plt.figure(figsize=(4, 4))\n",
    "plt.boxplot(df['salario_winsorizado'], vert=False, patch_artist=True, boxprops=dict(facecolor='skyblue'))\n",
    "plt.title('Diagrama de caja')\n",
    "plt.xlabel('Salarios winsorizados')\n",
    "plt.grid(True)\n",
    "plt.show()"
   ]
  }
 ],
 "metadata": {
  "kernelspec": {
   "display_name": "anaconda-ai-2024.04-py310",
   "language": "python",
   "name": "conda-env-anaconda-ai-2024.04-py310-py"
  },
  "language_info": {
   "codemirror_mode": {
    "name": "ipython",
    "version": 3
   },
   "file_extension": ".py",
   "mimetype": "text/x-python",
   "name": "python",
   "nbconvert_exporter": "python",
   "pygments_lexer": "ipython3",
   "version": "3.10.13"
  }
 },
 "nbformat": 4,
 "nbformat_minor": 5
}
