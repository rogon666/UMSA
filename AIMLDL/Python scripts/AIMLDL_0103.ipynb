{
 "cells": [
  {
   "cell_type": "code",
   "execution_count": 13,
   "id": "d3138738-d5ed-4475-8fe1-75de8da24205",
   "metadata": {},
   "outputs": [],
   "source": [
    "# ==========================================================\n",
    "# Maestría en Ciencia y Análisis de Datos\n",
    "# Universidad Mayor de San Andrés\n",
    "# ----------------------------------------------------------\n",
    "#           Machine Learning y Deep Learning\n",
    "# ----------------------------------------------------------\n",
    "#        Rolando Gonzales Martinez, Agosto 2024\n",
    "# ==========================================================\n",
    "#          Inteligenca artificial ELISA: \n",
    "#          Version de ELIZA en español\n",
    "# ==========================================================\n",
    "import random\n",
    "from collections import deque\n",
    "\n",
    "# Definir palabras clave y reglas de transformación correspondientes\n",
    "palabras_clave = {\n",
    "    'gato': [\n",
    "        \"¿Por qué dices tu {0}?\",\n",
    "        \"¿Cuánto tiempo has tenido tu {0}?\",\n",
    "        \"Cuéntame más sobre tu {0}.\"\n",
    "    ],\n",
    "    'siames': [\n",
    "        \"Los gatos siameses son especiales.\",\n",
    "        \"¿Cómo te hace sentir tener un gato siames?\",\n",
    "        \"¿Piensas a menudo en tu gato?\"\n",
    "    ],\n",
    "    'mi gato': [\n",
    "        \"Cuéntame más sobre tu gato.\",\n",
    "        \"¿Cómo te hace sentir tu relación con tu gato?\",\n",
    "        \"¿Piensas a menudo en tu gato?\"\n",
    "    ],\n",
    "    'aburrido': [\n",
    "        \"¿A menudo te sientes {0}?\",\n",
    "        \"¿Por qué te sientes {0}?\",\n",
    "        \"¿Cuándo sueles sentirte {0}?\"\n",
    "    ],\n",
    "    'tu': [\n",
    "        \"Estamos hablando de ti, no de mí.\",\n",
    "        \"¿Por qué mencionas mis sentimientos?\",\n",
    "        \"Centrémonos en ti.\"\n",
    "    ],\n",
    "    'ninguno': [\n",
    "        \"Por favor, cuéntame más.\",\n",
    "        \"¿Puedes elaborar más sobre eso?\",\n",
    "        \"¿Por qué dices eso?\",\n",
    "        \"¿Cómo te hace sentir eso?\"\n",
    "    ]\n",
    "}\n",
    "\n",
    "# Cola de memoria para almacenar respuestas anteriores\n",
    "cola_memoria = deque()\n",
    "\n",
    "def aplicar_transformacion(plantilla, palabra):\n",
    "    return plantilla.format(palabra)\n",
    "\n",
    "def GENERADOR_ELISA(oracion_usuario):\n",
    "    palabras = oracion_usuario.lower().split()\n",
    "    \n",
    "    # Encontrar la palabra con la clasificación de palabra clave más alta\n",
    "    palabra_mas_alta = None\n",
    "    reglas_mas_altas = None\n",
    "    \n",
    "    for palabra in palabras:\n",
    "        if palabra in palabras_clave:\n",
    "            palabra_mas_alta = palabra\n",
    "            reglas_mas_altas = palabras_clave[palabra]\n",
    "            break\n",
    "\n",
    "    if palabra_mas_alta:\n",
    "        # Elegir la regla más alta para la palabra clave\n",
    "        plantilla_respuesta = random.choice(reglas_mas_altas)\n",
    "        respuesta = aplicar_transformacion(plantilla_respuesta, palabra_mas_alta)\n",
    "        \n",
    "        if palabra_mas_alta == 'gato':\n",
    "            # Aplicar una transformación de la lista de reglas de 'memoria' y almacenarla en la memoria\n",
    "            plantilla_futura_respuesta = random.choice(palabras_clave['ninguno'])\n",
    "            respuesta_futura = aplicar_transformacion(plantilla_futura_respuesta, palabra_mas_alta)\n",
    "            cola_memoria.append(respuesta_futura)\n",
    "    else:\n",
    "        if cola_memoria:\n",
    "            # Extraer la respuesta más antigua de la cola de memoria\n",
    "            respuesta = cola_memoria.popleft()\n",
    "        else:\n",
    "            # Aplicar la transformación para la palabra clave NINGUNO\n",
    "            plantilla_respuesta = random.choice(palabras_clave['ninguno'])\n",
    "            respuesta = aplicar_transformacion(plantilla_respuesta, '')\n",
    "\n",
    "    return respuesta\n",
    "\n",
    "# Función para interactuar con ELISA\n",
    "def interactuar_con_elisa():\n",
    "    print(\"ELISA: Hola, soy ELISA, una version de ELIZA en español creada por Rolando Gonzales Martinez para la maestria en ciencia de datos. ¿En qué puedo ayudarte hoy?\")\n",
    "    while True:\n",
    "        entrada_usuario = input(\"Tú: \")\n",
    "        if entrada_usuario.lower() in [\"salir\", \"adiós\", \"bye\", \"chau\"]:\n",
    "            print(\"ELISA: Fue un placer hablar contigo. ¡Adiós!\")\n",
    "            break\n",
    "        respuesta_elisa = GENERADOR_ELISA(entrada_usuario)\n",
    "        print(f\"ELISA: {respuesta_elisa}\")"
   ]
  },
  {
   "cell_type": "code",
   "execution_count": 14,
   "id": "47e01233-47fe-4e6e-9a8e-d1d8c8f17fc7",
   "metadata": {},
   "outputs": [
    {
     "name": "stdout",
     "output_type": "stream",
     "text": [
      "ELISA: Hola, soy ELISA, una version de ELIZA en español creada por Rolando Gonzales Martinez para la maestria en ciencia de datos. ¿En qué puedo ayudarte hoy?\n"
     ]
    },
    {
     "name": "stdin",
     "output_type": "stream",
     "text": [
      "Tú:  tengo un problema\n"
     ]
    },
    {
     "name": "stdout",
     "output_type": "stream",
     "text": [
      "ELISA: ¿Puedes elaborar más sobre eso?\n"
     ]
    },
    {
     "name": "stdin",
     "output_type": "stream",
     "text": [
      "Tú:  tengo un problema con mi gato\n"
     ]
    },
    {
     "name": "stdout",
     "output_type": "stream",
     "text": [
      "ELISA: ¿Cuánto tiempo has tenido tu gato?\n"
     ]
    },
    {
     "name": "stdin",
     "output_type": "stream",
     "text": [
      "Tú:  muchos meses\n"
     ]
    },
    {
     "name": "stdout",
     "output_type": "stream",
     "text": [
      "ELISA: ¿Por qué dices eso?\n"
     ]
    },
    {
     "name": "stdin",
     "output_type": "stream",
     "text": [
      "Tú:  porque son muchos meses que tengo a mi gato\n"
     ]
    },
    {
     "name": "stdout",
     "output_type": "stream",
     "text": [
      "ELISA: Cuéntame más sobre tu gato.\n"
     ]
    },
    {
     "name": "stdin",
     "output_type": "stream",
     "text": [
      "Tú:  es un gato siames\n"
     ]
    },
    {
     "name": "stdout",
     "output_type": "stream",
     "text": [
      "ELISA: ¿Cuánto tiempo has tenido tu gato?\n"
     ]
    },
    {
     "name": "stdin",
     "output_type": "stream",
     "text": [
      "Tú:  muchisimos meses\n"
     ]
    },
    {
     "name": "stdout",
     "output_type": "stream",
     "text": [
      "ELISA: ¿Cómo te hace sentir eso?\n"
     ]
    },
    {
     "name": "stdin",
     "output_type": "stream",
     "text": [
      "Tú:  bien\n"
     ]
    },
    {
     "name": "stdout",
     "output_type": "stream",
     "text": [
      "ELISA: ¿Cómo te hace sentir eso?\n"
     ]
    },
    {
     "name": "stdin",
     "output_type": "stream",
     "text": [
      "Tú:  mal\n"
     ]
    },
    {
     "name": "stdout",
     "output_type": "stream",
     "text": [
      "ELISA: Por favor, cuéntame más.\n"
     ]
    },
    {
     "name": "stdin",
     "output_type": "stream",
     "text": [
      "Tú:  no quiero, bye\n"
     ]
    },
    {
     "name": "stdout",
     "output_type": "stream",
     "text": [
      "ELISA: ¿Por qué dices eso?\n"
     ]
    },
    {
     "name": "stdin",
     "output_type": "stream",
     "text": [
      "Tú:  adios\n"
     ]
    },
    {
     "name": "stdout",
     "output_type": "stream",
     "text": [
      "ELISA: Por favor, cuéntame más.\n"
     ]
    },
    {
     "name": "stdin",
     "output_type": "stream",
     "text": [
      "Tú:  bye\n"
     ]
    },
    {
     "name": "stdout",
     "output_type": "stream",
     "text": [
      "ELISA: Fue un placer hablar contigo. ¡Adiós!\n"
     ]
    }
   ],
   "source": [
    "# Iniciar la interacción con ELISA\n",
    "interactuar_con_elisa()"
   ]
  },
  {
   "cell_type": "code",
   "execution_count": null,
   "id": "4bd2f3c9-b4db-43f5-9692-71d32241bd8c",
   "metadata": {},
   "outputs": [],
   "source": []
  }
 ],
 "metadata": {
  "kernelspec": {
   "display_name": "anaconda-ai-2024.04-py310",
   "language": "python",
   "name": "conda-env-anaconda-ai-2024.04-py310-py"
  },
  "language_info": {
   "codemirror_mode": {
    "name": "ipython",
    "version": 3
   },
   "file_extension": ".py",
   "mimetype": "text/x-python",
   "name": "python",
   "nbconvert_exporter": "python",
   "pygments_lexer": "ipython3",
   "version": "3.10.13"
  }
 },
 "nbformat": 4,
 "nbformat_minor": 5
}
