{
 "cells": [
  {
   "cell_type": "code",
   "execution_count": null,
   "id": "7436d9ab-c24a-4af4-9c94-6621014dff2c",
   "metadata": {},
   "outputs": [],
   "source": [
    "# ==========================================================\n",
    "# Maestría en Ciencia y Análisis de Datos\n",
    "# Universidad Mayor de San Andrés\n",
    "# ----------------------------------------------------------\n",
    "#   Modelos lineales y modelos lineales generalizados\n",
    "# ----------------------------------------------------------\n",
    "#        Rolando Gonzales Martinez, Julio 2024\n",
    "# ==========================================================\n",
    "# Modelo lineal multivariante: exogeneidad \n",
    "\n",
    "# Importando librerias:\n",
    "import numpy as np\n",
    "import pandas as pd\n",
    "import statsmodels.api as sm\n",
    "import statsmodels.formula.api as smf\n",
    "import statsmodels.stats.api as sms\n",
    "\n",
    "\n",
    "# Cargar el conjunto de datos:\n",
    "url = 'https://raw.githubusercontent.com/rogon666/UMSA/main/MLMLG/datos/salarios.csv'\n",
    "\n",
    "# Cargar los datos en un DataFrame\n",
    "datos = pd.read_csv(url)\n",
    "\n",
    "# Mostrar las primeras filas del DataFrame\n",
    "print(datos.head())"
   ]
  },
  {
   "cell_type": "code",
   "execution_count": null,
   "id": "77d77403-3f5a-4309-bd41-e0d878299351",
   "metadata": {},
   "outputs": [],
   "source": [
    "Xeduc = datos['educacion']\n",
    "Xposg = datos['edad']\n",
    "Xante = datos['antiguedad_ejecutivo']\n",
    "ylogs = np.log(datos['salario'])\n",
    "\n",
    "X = np.column_stack((Xeduc, Xposg, Xante))\n",
    "X = pd.DataFrame(X, columns=['educacion', 'edad', 'antiguedad'])\n",
    "X = sm.add_constant(X)\n",
    "X.columns = ['constante', 'educacion', 'edad', 'antiguedad'] \n",
    "modelo_mco = sm.OLS(ylogs,X).fit()\n",
    "print(modelo_mco.summary())"
   ]
  },
  {
   "cell_type": "code",
   "execution_count": null,
   "id": "b0133ce5-46e4-4516-a3ec-cb91cc2f9eb0",
   "metadata": {},
   "outputs": [],
   "source": [
    "# Evaluación del instrumento\n",
    "Zedum = datos['educacionmadre'] \n",
    "Z = sm.add_constant(Zedum)\n",
    "modelo_mco_paso1 = sm.OLS(Xeduc, Z).fit()\n",
    "print(modelo_mco_paso1.summary())\n",
    "educacion_ajustada = modelo_mco_paso1.fittedvalues\n",
    "residuos_mco_paso1 = modelo_mco_paso1.fittedvalues"
   ]
  },
  {
   "cell_type": "code",
   "execution_count": null,
   "id": "9ef89ee5-2611-4e1e-b627-5014a0e3a50e",
   "metadata": {},
   "outputs": [],
   "source": [
    "# Modelo VI (segundo paso de MCO 2 pasos)\n",
    "Z = educacion_ajustada\n",
    "ZX = np.column_stack((Z, Xposg, Xante))\n",
    "ZX = pd.DataFrame(ZX, columns=['educacion', 'edad', 'antiguedad'])\n",
    "ZX = sm.add_constant(ZX)\n",
    "ZX.columns = ['constante', 'educacion', 'edad', 'antiguedad'] \n",
    "modelo_VI = sm.OLS(ylogs,ZX).fit()\n",
    "print(modelo_VI.summary())"
   ]
  },
  {
   "cell_type": "code",
   "execution_count": null,
   "id": "b6cc322d-0409-45a1-9206-180bae658f73",
   "metadata": {},
   "outputs": [],
   "source": [
    "import numpy as np\n",
    "from scipy import stats\n",
    "# Funcion para calcular el test de Hausman\n",
    "def test_hausman_test(mco, vi):\n",
    "    b = mco.params\n",
    "    B = vi.params\n",
    "    v_b = mco.cov_params()\n",
    "    v_B = vi.cov_params()\n",
    "    df = len(b)\n",
    "    diff = b - B\n",
    "    stat = np.dot(np.dot(diff.T, np.linalg.inv(v_b - v_B)), diff)\n",
    "    pval = stats.chi2.sf(stat, df)\n",
    "    return stat, pval\n",
    "\n",
    "# Testeando exogeneidad:\n",
    "hausman_stat, hausman_pval = test_hausman_test(modelo_mco, modelo_VI)\n",
    "print(f'Estadígrafo de Hausman: {hausman_stat}')\n",
    "print(f'Valor p de Hausman: {hausman_pval}')\n",
    "\n",
    "if hausman_pval < 0.05:\n",
    "    print(\"Rechazamos la hipótesis nula de exogeneidad. Existe evidencia de endogeneidad.\")\n",
    "else:\n",
    "    print(\"No rechazamos la hipótesis nula de exogeneidad. No hay evidencia de endogeneidad.\")\n"
   ]
  }
 ],
 "metadata": {
  "kernelspec": {
   "display_name": "anaconda-2024.02-py310",
   "language": "python",
   "name": "conda-env-anaconda-2024.02-py310-py"
  },
  "language_info": {
   "codemirror_mode": {
    "name": "ipython",
    "version": 3
   },
   "file_extension": ".py",
   "mimetype": "text/x-python",
   "name": "python",
   "nbconvert_exporter": "python",
   "pygments_lexer": "ipython3",
   "version": "3.10.14"
  }
 },
 "nbformat": 4,
 "nbformat_minor": 5
}
