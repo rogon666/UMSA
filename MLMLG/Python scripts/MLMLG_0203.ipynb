{
 "cells": [
  {
   "cell_type": "code",
   "execution_count": 1,
   "id": "7436d9ab-c24a-4af4-9c94-6621014dff2c",
   "metadata": {},
   "outputs": [
    {
     "name": "stdout",
     "output_type": "stream",
     "text": [
      "   salario  educacion  educacionmadre  edad  antiguedad_ejecutivo  \\\n",
      "0     1161         12              11    49                     6   \n",
      "1      600         10               9    43                     5   \n",
      "2      379          9               8    51                     5   \n",
      "3      651          8               9    55                     4   \n",
      "4      497         10               9    44                     5   \n",
      "\n",
      "   educacion_grado  antiguedad  educacion_posgrado  valor_empresa  \\\n",
      "0                1           9                   1          23200   \n",
      "1                1          10                   1           1100   \n",
      "2                1           9                   1           1100   \n",
      "3                1          22                   0           1000   \n",
      "4                1           8                   1            387   \n",
      "\n",
      "   beneficios_empresa  ventas_empresa  \n",
      "0                 966            6200  \n",
      "1                  48             283  \n",
      "2                  40             169  \n",
      "3                 -54            1100  \n",
      "4                  28             351  \n"
     ]
    }
   ],
   "source": [
    "# ==========================================================\n",
    "# Maestría en Ciencia y Análisis de Datos\n",
    "# Universidad Mayor de San Andrés\n",
    "# ----------------------------------------------------------\n",
    "#   Modelos lineales y modelos lineales generalizados\n",
    "# ----------------------------------------------------------\n",
    "#        Rolando Gonzales Martinez, Julio 2024\n",
    "# ==========================================================\n",
    "# Modelo lineal multivariante: exogeneidad \n",
    "\n",
    "# Importando librerias:\n",
    "import numpy as np\n",
    "import pandas as pd\n",
    "import statsmodels.api as sm\n",
    "import statsmodels.formula.api as smf\n",
    "import statsmodels.stats.api as sms\n",
    "\n",
    "\n",
    "# Cargar el conjunto de datos:\n",
    "url = 'https://raw.githubusercontent.com/rogon666/UMSA/main/MLMLG/datos/salarios.csv'\n",
    "\n",
    "# Cargar los datos en un DataFrame\n",
    "datos = pd.read_csv(url)\n",
    "\n",
    "# Mostrar las primeras filas del DataFrame\n",
    "print(datos.head())"
   ]
  },
  {
   "cell_type": "code",
   "execution_count": 2,
   "id": "77d77403-3f5a-4309-bd41-e0d878299351",
   "metadata": {},
   "outputs": [
    {
     "name": "stdout",
     "output_type": "stream",
     "text": [
      "                            OLS Regression Results                            \n",
      "==============================================================================\n",
      "Dep. Variable:                salario   R-squared:                       0.645\n",
      "Model:                            OLS   Adj. R-squared:                  0.639\n",
      "Method:                 Least Squares   F-statistic:                     104.8\n",
      "Date:                Wed, 24 Jul 2024   Prob (F-statistic):           1.04e-38\n",
      "Time:                        18:12:38   Log-Likelihood:                -70.342\n",
      "No. Observations:                 177   AIC:                             148.7\n",
      "Df Residuals:                     173   BIC:                             161.4\n",
      "Df Model:                           3                                         \n",
      "Covariance Type:            nonrobust                                         \n",
      "==============================================================================\n",
      "                 coef    std err          t      P>|t|      [0.025      0.975]\n",
      "------------------------------------------------------------------------------\n",
      "constante      4.0309      0.224     18.028      0.000       3.590       4.472\n",
      "educacion      0.1972      0.023      8.406      0.000       0.151       0.243\n",
      "edad           0.0029      0.003      0.885      0.377      -0.004       0.009\n",
      "antiguedad     0.0763      0.039      1.944      0.054      -0.001       0.154\n",
      "==============================================================================\n",
      "Omnibus:                       51.567   Durbin-Watson:                   1.965\n",
      "Prob(Omnibus):                  0.000   Jarque-Bera (JB):              136.112\n",
      "Skew:                          -1.217   Prob(JB):                     2.78e-30\n",
      "Kurtosis:                       6.540   Cond. No.                         475.\n",
      "==============================================================================\n",
      "\n",
      "Notes:\n",
      "[1] Standard Errors assume that the covariance matrix of the errors is correctly specified.\n"
     ]
    }
   ],
   "source": [
    "Xeduc = datos['educacion']\n",
    "Xposg = datos['edad']\n",
    "Xante = datos['antiguedad_ejecutivo']\n",
    "ylogs = np.log(datos['salario'])\n",
    "\n",
    "X = np.column_stack((Xeduc, Xposg, Xante))\n",
    "X = pd.DataFrame(X, columns=['educacion', 'edad', 'antiguedad'])\n",
    "X = sm.add_constant(X)\n",
    "X.columns = ['constante', 'educacion', 'edad', 'antiguedad'] \n",
    "modelo_mco = sm.OLS(ylogs,X).fit()\n",
    "print(modelo_mco.summary())"
   ]
  },
  {
   "cell_type": "code",
   "execution_count": 3,
   "id": "b0133ce5-46e4-4516-a3ec-cb91cc2f9eb0",
   "metadata": {},
   "outputs": [
    {
     "name": "stdout",
     "output_type": "stream",
     "text": [
      "                            OLS Regression Results                            \n",
      "==============================================================================\n",
      "Dep. Variable:              educacion   R-squared:                       0.816\n",
      "Model:                            OLS   Adj. R-squared:                  0.815\n",
      "Method:                 Least Squares   F-statistic:                     777.2\n",
      "Date:                Wed, 24 Jul 2024   Prob (F-statistic):           2.82e-66\n",
      "Time:                        18:12:44   Log-Likelihood:                -228.04\n",
      "No. Observations:                 177   AIC:                             460.1\n",
      "Df Residuals:                     175   BIC:                             466.4\n",
      "Df Model:                           1                                         \n",
      "Covariance Type:            nonrobust                                         \n",
      "==================================================================================\n",
      "                     coef    std err          t      P>|t|      [0.025      0.975]\n",
      "----------------------------------------------------------------------------------\n",
      "const              1.2883      0.322      3.996      0.000       0.652       1.925\n",
      "educacionmadre     0.9677      0.035     27.878      0.000       0.899       1.036\n",
      "==============================================================================\n",
      "Omnibus:                       95.896   Durbin-Watson:                   1.879\n",
      "Prob(Omnibus):                  0.000   Jarque-Bera (JB):             1908.397\n",
      "Skew:                           1.483   Prob(JB):                         0.00\n",
      "Kurtosis:                      18.810   Cond. No.                         45.6\n",
      "==============================================================================\n",
      "\n",
      "Notes:\n",
      "[1] Standard Errors assume that the covariance matrix of the errors is correctly specified.\n"
     ]
    }
   ],
   "source": [
    "# Evaluación del instrumento\n",
    "Zedum = datos['educacionmadre'] \n",
    "Z = sm.add_constant(Zedum)\n",
    "modelo_mco_paso1 = sm.OLS(Xeduc, Z).fit()\n",
    "print(modelo_mco_paso1.summary())\n",
    "educacion_ajustada = modelo_mco_paso1.fittedvalues\n",
    "residuos_mco_paso1 = modelo_mco_paso1.fittedvalues"
   ]
  },
  {
   "cell_type": "code",
   "execution_count": 4,
   "id": "9ef89ee5-2611-4e1e-b627-5014a0e3a50e",
   "metadata": {},
   "outputs": [
    {
     "name": "stdout",
     "output_type": "stream",
     "text": [
      "                            OLS Regression Results                            \n",
      "==============================================================================\n",
      "Dep. Variable:                salario   R-squared:                       0.613\n",
      "Model:                            OLS   Adj. R-squared:                  0.606\n",
      "Method:                 Least Squares   F-statistic:                     91.35\n",
      "Date:                Wed, 24 Jul 2024   Prob (F-statistic):           1.80e-35\n",
      "Time:                        18:12:51   Log-Likelihood:                -77.995\n",
      "No. Observations:                 177   AIC:                             164.0\n",
      "Df Residuals:                     173   BIC:                             176.7\n",
      "Df Model:                           3                                         \n",
      "Covariance Type:            nonrobust                                         \n",
      "==============================================================================\n",
      "                 coef    std err          t      P>|t|      [0.025      0.975]\n",
      "------------------------------------------------------------------------------\n",
      "constante      3.8888      0.243     15.973      0.000       3.408       4.369\n",
      "educacion      0.1560      0.022      7.105      0.000       0.113       0.199\n",
      "edad           0.0032      0.003      0.924      0.357      -0.004       0.010\n",
      "antiguedad     0.1797      0.033      5.412      0.000       0.114       0.245\n",
      "==============================================================================\n",
      "Omnibus:                       46.263   Durbin-Watson:                   1.979\n",
      "Prob(Omnibus):                  0.000   Jarque-Bera (JB):              103.590\n",
      "Skew:                          -1.159   Prob(JB):                     3.20e-23\n",
      "Kurtosis:                       5.945   Cond. No.                         496.\n",
      "==============================================================================\n",
      "\n",
      "Notes:\n",
      "[1] Standard Errors assume that the covariance matrix of the errors is correctly specified.\n"
     ]
    }
   ],
   "source": [
    "# Modelo VI (segundo paso de MCO 2 pasos)\n",
    "Z = educacion_ajustada\n",
    "ZX = np.column_stack((Z, Xposg, Xante))\n",
    "ZX = pd.DataFrame(ZX, columns=['educacion', 'edad', 'antiguedad'])\n",
    "ZX = sm.add_constant(ZX)\n",
    "ZX.columns = ['constante', 'educacion', 'edad', 'antiguedad'] \n",
    "modelo_VI = sm.OLS(ylogs,ZX).fit()\n",
    "print(modelo_VI.summary())"
   ]
  },
  {
   "cell_type": "code",
   "execution_count": 5,
   "id": "b6cc322d-0409-45a1-9206-180bae658f73",
   "metadata": {},
   "outputs": [
    {
     "name": "stdout",
     "output_type": "stream",
     "text": [
      "Estadígrafo de Hausman: 20.71947743796963\n",
      "Valor p de Hausman: 0.00035990757123605295\n",
      "Rechazamos la hipótesis nula de exogeneidad. Existe evidencia de endogeneidad.\n"
     ]
    }
   ],
   "source": [
    "import numpy as np\n",
    "from scipy import stats\n",
    "# Funcion para calcular el test de Hausman\n",
    "def test_hausman_test(mco, vi):\n",
    "    b = mco.params\n",
    "    B = vi.params\n",
    "    v_b = mco.cov_params()\n",
    "    v_B = vi.cov_params()\n",
    "    df = len(b)\n",
    "    diff = b - B\n",
    "    stat = np.dot(np.dot(diff.T, np.linalg.inv(v_b - v_B)), diff)\n",
    "    pval = stats.chi2.sf(stat, df)\n",
    "    return stat, pval\n",
    "\n",
    "# Testeando exogeneidad:\n",
    "hausman_stat, hausman_pval = test_hausman_test(modelo_mco, modelo_VI)\n",
    "print(f'Estadígrafo de Hausman: {hausman_stat}')\n",
    "print(f'Valor p de Hausman: {hausman_pval}')\n",
    "\n",
    "if hausman_pval < 0.05:\n",
    "    print(\"Rechazamos la hipótesis nula de exogeneidad. Existe evidencia de endogeneidad.\")\n",
    "else:\n",
    "    print(\"No rechazamos la hipótesis nula de exogeneidad. No hay evidencia de endogeneidad.\")\n"
   ]
  }
 ],
 "metadata": {
  "kernelspec": {
   "display_name": "anaconda-2024.02-py310",
   "language": "python",
   "name": "conda-env-anaconda-2024.02-py310-py"
  },
  "language_info": {
   "codemirror_mode": {
    "name": "ipython",
    "version": 3
   },
   "file_extension": ".py",
   "mimetype": "text/x-python",
   "name": "python",
   "nbconvert_exporter": "python",
   "pygments_lexer": "ipython3",
   "version": "3.10.14"
  }
 },
 "nbformat": 4,
 "nbformat_minor": 5
}
