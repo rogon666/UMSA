{
 "cells": [
  {
   "cell_type": "code",
   "execution_count": null,
   "id": "4cfb9d87-e626-4845-bf68-584e519e0da0",
   "metadata": {},
   "outputs": [],
   "source": [
    "#pip install arch"
   ]
  },
  {
   "cell_type": "code",
   "execution_count": null,
   "id": "6732c3ae-7c63-4bbd-a023-914c1fdeff66",
   "metadata": {},
   "outputs": [],
   "source": [
    "# ==========================================================\n",
    "# Maestría en Ciencia y Análisis de Datos\n",
    "# Universidad Mayor de San Andrés\n",
    "# ----------------------------------------------------------\n",
    "#   Modelos lineales y modelos lineales generalizados\n",
    "# ----------------------------------------------------------\n",
    "#        Rolando Gonzales Martinez, Julio 2024\n",
    "# ==========================================================\n",
    "# Modelo lineal multivariante: (G)ARCH del TC blue bs/USD\n",
    "\n",
    "import matplotlib.pyplot as plt\n",
    "from arch import arch_model\n",
    "from statsmodels.tsa.arima.model import ARIMA\n",
    "import pandas as pd\n",
    "import numpy as np\n",
    "\n",
    "# Importar el conjunto de datos desde GitHub\n",
    "url = 'https://raw.githubusercontent.com/rogon666/UMSA/main/MLMLG/datos/tc_bsusd_blue.csv'\n",
    "\n",
    "# Cargar los datos en un DataFrame\n",
    "data = pd.read_csv(url)\n",
    "print(data.head())"
   ]
  },
  {
   "cell_type": "code",
   "execution_count": null,
   "id": "dbe02444-aa91-49c7-b64c-d99463505ba0",
   "metadata": {},
   "outputs": [],
   "source": [
    "# Grafico de la serie de tiempo:\n",
    "data['fecha'] = pd.to_datetime(data['fecha'])\n",
    "plt.figure(figsize=(9, 4))\n",
    "plt.plot(data['fecha'], data['tcblue'], label='tcblue', color='blue')\n",
    "highlight_start = pd.Timestamp('2024-06-26')\n",
    "plt.axvspan(highlight_start, data['fecha'].max(), color='gray', alpha=0.3)\n",
    "plt.xlabel('Fecha')\n",
    "plt.ylabel('tipo de cambio bs/USD')\n",
    "plt.title('Datos diarios del tipo de cambio paralelo Bs/USD')\n",
    "plt.legend()\n",
    "plt.xlim(data['fecha'].min(), data['fecha'].max())\n",
    "plt.text(highlight_start, 8, 'intento de golpe', color='gray', fontsize=9, rotation = 90)\n",
    "plt.show()"
   ]
  },
  {
   "cell_type": "code",
   "execution_count": null,
   "id": "7c28a805-bda5-489d-a54b-ecbc5d0fc72f",
   "metadata": {},
   "outputs": [],
   "source": [
    "data.set_index('fecha', inplace=True)\n",
    "data = data.asfreq('D')\n",
    "# Modelo ARIMA\n",
    "modelo = ARIMA(data['tcblue'], order=(5, 1, 0))\n",
    "ajuste_modelo = modelo.fit()\n",
    "resultados = ajuste_modelo.summary()\n",
    "resultados"
   ]
  },
  {
   "cell_type": "code",
   "execution_count": null,
   "id": "cc213ed9-015b-4a68-a372-0f2a83a59122",
   "metadata": {},
   "outputs": [],
   "source": [
    "# Grafico de ajuste del modelo ARIMA\n",
    "data['residuos'] = ajuste_modelo.resid\n",
    "std_residuals = data['residuos'].std()\n",
    "outliers = data[abs(data['residuos']) > 3 * std_residuals]\n",
    "data_cleaned = data.drop(outliers.index)\n",
    "plt.figure(figsize=(4, 4))\n",
    "plt.scatter(data_cleaned['tcblue'], ajuste_modelo.fittedvalues.loc[data_cleaned.index], color='blue', alpha=0.5)\n",
    "plt.plot([data_cleaned['tcblue'].min(), data_cleaned['tcblue'].max()], [data_cleaned['tcblue'].min(), data_cleaned['tcblue'].max()], color='red', linestyle='--')\n",
    "plt.xlabel('TC blue observado')\n",
    "plt.ylabel('TC blue ajustado')\n",
    "plt.title('TC blue observado y ajustado con modelo ARIMA')\n",
    "plt.show()"
   ]
  },
  {
   "cell_type": "code",
   "execution_count": null,
   "id": "8e99910b-9c8f-4050-b514-eb7ac231b5c1",
   "metadata": {},
   "outputs": [],
   "source": [
    "# Correlación serial (autocorrelación): Test de Breusch-Godfrey\n",
    "from statsmodels.stats.diagnostic import acorr_breusch_godfrey\n",
    "# nlags: retardos a testear por autocorrelación\n",
    "bg_test = acorr_breusch_godfrey(ajuste_modelo, nlags=2)\n",
    "\n",
    "# Resultados del test de Breusch-Godfrey\n",
    "print(f'Estadístico LM: {bg_test[0]}')\n",
    "print(f'Valor p (LM): {bg_test[1]}')\n",
    "print(f'Estadístico F: {bg_test[2]}')\n",
    "print(f'Valor p (F): {bg_test[3]}')\n",
    "\n",
    "# Interpretación de los resultados\n",
    "alpha = 0.05\n",
    "if bg_test[1] < alpha:\n",
    "    print(\"Se rechaza la hipótesis nula de no autocorrelación. \\nExiste evidencia de autocorrelación.\")\n",
    "else:\n",
    "    print(\"No se rechaza la hipótesis nula de no autocorrelación. \\nNo hay evidencia de autocorrelación.\")"
   ]
  },
  {
   "cell_type": "code",
   "execution_count": null,
   "id": "de2e5abf-fedc-4007-9400-ea64428f4d61",
   "metadata": {},
   "outputs": [],
   "source": [
    "# Correlación serial (autocorrelación): test de Ljung-Box\n",
    "from statsmodels.stats.diagnostic import acorr_ljungbox\n",
    "# lags: todos los 1 a lag retardos a testear por autocorrelación\n",
    "test_ljung_box = acorr_ljungbox(ajuste_modelo.resid, lags=10, return_df=True)\n",
    "print(test_ljung_box)"
   ]
  },
  {
   "cell_type": "code",
   "execution_count": null,
   "id": "b6e6af34-09f4-4277-b398-6ce0e13a156d",
   "metadata": {},
   "outputs": [],
   "source": [
    "# Test ARCH de heteroscedasticidad (Engle)\n",
    "import statsmodels.stats.diagnostic as diag\n",
    "arch_test = diag.het_arch(ajuste_modelo.resid, nlags=4)\n",
    "# Mostrar resultados del test\n",
    "print(f\"Estadigrafo LM Statistic: {arch_test[0]}\")\n",
    "print(f\"p-value LM: {arch_test[1]}\")\n",
    "print(f\"Estadigrafo F: {arch_test[2]}\")\n",
    "print(f\"p-value F: {arch_test[3]}\")"
   ]
  },
  {
   "cell_type": "code",
   "execution_count": null,
   "id": "d0cc6549-1ec2-4f6b-803b-e7ebfc9c7a45",
   "metadata": {},
   "outputs": [],
   "source": [
    "# Modelo GARCH basado en los residuos ARIMA\n",
    "modelo_garch = arch_model(data['residuos'].dropna(), vol='Garch', p=1, q=1)\n",
    "garch_fit = modelo_garch.fit()\n",
    "resultados_garch = garch_fit.summary()\n",
    "print(resultados_garch)"
   ]
  },
  {
   "cell_type": "code",
   "execution_count": null,
   "id": "37cea2f4-7635-4a4e-834b-4cc4b979d646",
   "metadata": {},
   "outputs": [],
   "source": [
    "# Volatilidad\n",
    "volatilidad_estimada = garch_fit.conditional_volatility\n",
    "# Grafico de la volatilidad condicional estimada\n",
    "start_date = pd.Timestamp('2024-04-01')\n",
    "plt.figure(figsize=(10, 4))\n",
    "plt.plot(data.loc[start_date:].index, volatilidad_estimada[data.index >= start_date], label='Volatilidad estimada (GARCH)', color='purple')\n",
    "highlight_start = pd.Timestamp('2024-06-26')\n",
    "plt.axvspan(highlight_start, data.index.max(), color='gray', alpha=0.3)\n",
    "plt.xlabel('Fecha')\n",
    "plt.ylabel('Volatilidad condicional')\n",
    "plt.title('Volatilidad Estimada con un modelo GARCH para el tipo de cambio paralelo Bs/USD')\n",
    "plt.legend()\n",
    "plt.xlim(start_date, data.index.max())\n",
    "plt.text(highlight_start, 0.03, ' periodo post-golpe', color='gray', fontsize=9)\n",
    "plt.show()"
   ]
  }
 ],
 "metadata": {
  "kernelspec": {
   "display_name": "anaconda-2024.02-py310",
   "language": "python",
   "name": "conda-env-anaconda-2024.02-py310-py"
  },
  "language_info": {
   "codemirror_mode": {
    "name": "ipython",
    "version": 3
   },
   "file_extension": ".py",
   "mimetype": "text/x-python",
   "name": "python",
   "nbconvert_exporter": "python",
   "pygments_lexer": "ipython3",
   "version": "3.10.14"
  }
 },
 "nbformat": 4,
 "nbformat_minor": 5
}
