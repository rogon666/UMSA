{
 "cells": [
  {
   "cell_type": "code",
   "execution_count": 8,
   "id": "f8a7741f-0c04-49da-bc78-832ff4309c4b",
   "metadata": {},
   "outputs": [
    {
     "name": "stdout",
     "output_type": "stream",
     "text": [
      "                            OLS Regression Results                            \n",
      "==============================================================================\n",
      "Dep. Variable:                      y   R-squared:                       0.910\n",
      "Model:                            OLS   Adj. R-squared:                  0.910\n",
      "Method:                 Least Squares   F-statistic:                     2509.\n",
      "Date:                Sat, 20 Jul 2024   Prob (F-statistic):          1.86e-260\n",
      "Time:                        01:43:33   Log-Likelihood:                -690.70\n",
      "No. Observations:                 500   AIC:                             1387.\n",
      "Df Residuals:                     497   BIC:                             1400.\n",
      "Df Model:                           2                                         \n",
      "Covariance Type:            nonrobust                                         \n",
      "==============================================================================\n",
      "                 coef    std err          t      P>|t|      [0.025      0.975]\n",
      "------------------------------------------------------------------------------\n",
      "const          5.0190      0.156     32.190      0.000       4.713       5.325\n",
      "x1             0.9885      0.014     68.200      0.000       0.960       1.017\n",
      "x2            -1.9176      0.086    -22.171      0.000      -2.088      -1.748\n",
      "==============================================================================\n",
      "Omnibus:                        0.399   Durbin-Watson:                   2.171\n",
      "Prob(Omnibus):                  0.819   Jarque-Bera (JB):                0.426\n",
      "Skew:                          -0.068   Prob(JB):                        0.808\n",
      "Kurtosis:                       2.956   Cond. No.                         38.5\n",
      "==============================================================================\n",
      "\n",
      "Notes:\n",
      "[1] Standard Errors assume that the covariance matrix of the errors is correctly specified.\n",
      "              0         1\n",
      "const  4.712656  5.325329\n",
      "x1     0.960029  1.016984\n",
      "x2    -2.087570 -1.747693\n"
     ]
    }
   ],
   "source": [
    "# ==========================================================\n",
    "# Maestría en Ciencia y Análisis de Datos\n",
    "# Universidad Mayor de San Andrés\n",
    "# ----------------------------------------------------------\n",
    "#   Modelos lineales y modelos lineales generalizados\n",
    "# ----------------------------------------------------------\n",
    "#        Rolando Gonzales Martinez, Julio 2024\n",
    "# ==========================================================\n",
    "\n",
    "# Modelo lineal multivariante: 2 variables explicativas x1 y x2\n",
    "\n",
    "import numpy as np\n",
    "import pandas as pd\n",
    "import statsmodels.api as sm\n",
    "import matplotlib.pyplot as plt\n",
    "import seaborn as sns\n",
    "\n",
    "# Configurar semilla para reproducibilidad\n",
    "np.random.seed(937)\n",
    "\n",
    "# Generar datos simulados\n",
    "n = 500\n",
    "x1 = np.random.normal(10, 3, n)\n",
    "x2 = np.random.choice([0, 1], n) # binaria o dummy\n",
    "\n",
    "# Parametros poblacionales:\n",
    "beta0 = 5\n",
    "beta1 = 1\n",
    "beta2 = -2\n",
    "errores = np.random.normal(0, 1, n) # Gaussiana estandar N(0,1)\n",
    "\n",
    "y = beta0 + beta1*x1 + beta2*x2 + errores \n",
    "\n",
    "# Combinar en un DataFrame\n",
    "data = pd.DataFrame({'x1': x1, 'x2': x2, 'y': y})\n",
    "\n",
    "# Ajustar el modelo de regresión lineal\n",
    "X = sm.add_constant(data[['x1', 'x2']])\n",
    "model = sm.OLS(data['y'], X).fit()\n",
    "\n",
    "# Resumir el modelo\n",
    "print(model.summary())\n",
    "\n",
    "# Calcular intervalos de confianza del 95%\n",
    "conf_intervals = model.conf_int(alpha=0.05)\n",
    "print(conf_intervals)\n"
   ]
  },
  {
   "cell_type": "code",
   "execution_count": 10,
   "id": "62242e79-2fc4-40e7-9b2a-22108d133af0",
   "metadata": {},
   "outputs": [
    {
     "name": "stdout",
     "output_type": "stream",
     "text": [
      "0.975\n"
     ]
    }
   ],
   "source": [
    "alpha = 0.05 # 5%\n",
    "IC  = 1 - 0.05 = 0.95 # 95%\n",
    "IC_s = 1 - 0.05/2\n",
    "print(IC_s)"
   ]
  },
  {
   "cell_type": "code",
   "execution_count": 11,
   "id": "6a8366fd-1acb-480a-adb1-14e4a1bf35be",
   "metadata": {},
   "outputs": [
    {
     "name": "stdout",
     "output_type": "stream",
     "text": [
      "0.025\n"
     ]
    }
   ],
   "source": [
    "IC_i = 0.05/2\n",
    "print(IC_i)"
   ]
  },
  {
   "cell_type": "code",
   "execution_count": null,
   "id": "11d4af53-537a-4f32-b91a-013ef1e8a4b1",
   "metadata": {},
   "outputs": [],
   "source": []
  }
 ],
 "metadata": {
  "kernelspec": {
   "display_name": "anaconda-2024.02-py310",
   "language": "python",
   "name": "conda-env-anaconda-2024.02-py310-py"
  },
  "language_info": {
   "codemirror_mode": {
    "name": "ipython",
    "version": 3
   },
   "file_extension": ".py",
   "mimetype": "text/x-python",
   "name": "python",
   "nbconvert_exporter": "python",
   "pygments_lexer": "ipython3",
   "version": "3.10.14"
  }
 },
 "nbformat": 4,
 "nbformat_minor": 5
}
