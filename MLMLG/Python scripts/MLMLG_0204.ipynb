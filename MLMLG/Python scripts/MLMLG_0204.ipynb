{
 "cells": [
  {
   "cell_type": "code",
   "execution_count": null,
   "id": "e1295cad-9080-40c6-9e4a-f2a638d9bed7",
   "metadata": {},
   "outputs": [],
   "source": [
    "# ==========================================================\n",
    "# Maestría en Ciencia y Análisis de Datos\n",
    "# Universidad Mayor de San Andrés\n",
    "# ----------------------------------------------------------\n",
    "#   Modelos lineales y modelos lineales generalizados\n",
    "# ----------------------------------------------------------\n",
    "#        Rolando Gonzales Martinez, Julio 2024\n",
    "# ==========================================================\n",
    "# Modelo lineal multivariante: multicolinealidad\n",
    "\n",
    "# Importando librerias:\n",
    "import statsmodels.api as sm\n",
    "import pandas as pd\n",
    "import numpy as np\n",
    "from numpy.linalg import det, cond\n",
    "\n",
    "# Cargar el conjunto de datos:\n",
    "url = 'https://raw.githubusercontent.com/rogon666/UMSA/main/MLMLG/datos/salarios.csv'\n",
    "\n",
    "# Cargar los datos en un DataFrame\n",
    "datos = pd.read_csv(url)\n",
    "\n",
    "# Mostrar las primeras filas del DataFrame\n",
    "print(datos.head())"
   ]
  },
  {
   "cell_type": "code",
   "execution_count": null,
   "id": "c1ecaf47-8205-41d1-9adb-f4c5a5167be7",
   "metadata": {},
   "outputs": [],
   "source": [
    "# Definir las variables independientes y dependientes\n",
    "X = datos[['educacion','edad', 'antiguedad_ejecutivo', 'educacion_grado', 'antiguedad', 'educacion_posgrado', 'valor_empresa', 'beneficios_empresa',  'ventas_empresa']]\n",
    "y = datos['salario']\n",
    "\n",
    "# Añadir una constante a las variables independientes\n",
    "X = sm.add_constant(X)\n",
    "\n",
    "# Ajustar el modelo de regresión lineal\n",
    "model = sm.OLS(y, X).fit()\n",
    "\n",
    "# Resumen del modelo\n",
    "print(model.summary())"
   ]
  },
  {
   "cell_type": "code",
   "execution_count": null,
   "id": "50dd5b42-6b3b-41c3-b8b8-ca0712535097",
   "metadata": {},
   "outputs": [],
   "source": [
    "# *** Evaluando multicolinealidad: determinante de la matriz X ***\n",
    "# Calcular X'X\n",
    "XTX = np.dot(X.T, X)\n",
    "# Determinante de X'X\n",
    "det_XTX = det(XTX)\n",
    "print(f\"Determinante de X'X: {det_XTX}\")"
   ]
  },
  {
   "cell_type": "code",
   "execution_count": null,
   "id": "fa28091e-c4ad-4fab-a314-d5dc153a2eca",
   "metadata": {},
   "outputs": [],
   "source": [
    "# *** Evaluando multicolinealidad: Numero de condicion de Belsley ***\n",
    "norm_x = X.values\n",
    "for i, name in enumerate(X):\n",
    "    if name == \"const\":\n",
    "        continue\n",
    "    norm_x[:, i] = X[name] / np.linalg.norm(X[name])\n",
    "norm_xtx = np.dot(norm_x.T, norm_x)\n",
    "eigs = np.linalg.eigvals(norm_xtx)\n",
    "numero_de_condicion_de_Belsley = np.sqrt(eigs.max() / eigs.min())\n",
    "print(numero_de_condicion_de_Belsley)"
   ]
  },
  {
   "cell_type": "code",
   "execution_count": null,
   "id": "73a143c0-4023-4a6d-820a-5bce0bdc2b5d",
   "metadata": {},
   "outputs": [],
   "source": [
    "# *** Evaluando multicolinealidad: VIF ***\n",
    "from statsmodels.stats.outliers_influence import variance_inflation_factor\n",
    "# VIF para cada variable\n",
    "vif_data = pd.DataFrame()\n",
    "vif_data[\"Variable\"] = X.columns\n",
    "vif_data[\"VIF\"] = [variance_inflation_factor(X.values, i) for i in range(X.shape[1])]\n",
    "\n",
    "print(vif_data)"
   ]
  },
  {
   "cell_type": "code",
   "execution_count": null,
   "id": "3f21a077-23e1-4770-8eb3-845307da3539",
   "metadata": {},
   "outputs": [],
   "source": [
    "# Eliminar las variable con VIFs más altos:\n",
    "X_reducido = X.drop(columns=['valor_empresa','beneficios_empresa','ventas_empresa'])\n",
    "\n",
    "# Ajustar el modelo de regresión lineal con las variables reducidas\n",
    "modelo_reducido = sm.OLS(datos['salario'], X_reducido).fit()\n",
    "print(modelo_reducido.summary())\n"
   ]
  },
  {
   "cell_type": "code",
   "execution_count": null,
   "id": "a2386df0-b427-4dba-94b2-9af1fa39b97e",
   "metadata": {},
   "outputs": [],
   "source": [
    "# *** Evaluando multicolinealidad: Numero de condicion de Belsley ***\n",
    "norm_x = X_reducido.values\n",
    "for i, name in enumerate(X_reducido):\n",
    "    if name == \"const\":\n",
    "        continue\n",
    "    norm_x[:, i] = X_reducido[name] / np.linalg.norm(X_reducido[name])\n",
    "norm_xtx = np.dot(norm_x.T, norm_x)\n",
    "eigs = np.linalg.eigvals(norm_xtx)\n",
    "numero_de_condicion_de_Belsley = np.sqrt(eigs.max() / eigs.min())\n",
    "print(numero_de_condicion_de_Belsley)"
   ]
  },
  {
   "cell_type": "code",
   "execution_count": null,
   "id": "d9e5c741-c9ca-4475-b61b-59804d76ed53",
   "metadata": {},
   "outputs": [],
   "source": [
    "from sklearn.decomposition import PCA\n",
    "import numpy as np\n",
    "\n",
    "# Estandarizar las variables independientes\n",
    "from sklearn.preprocessing import StandardScaler\n",
    "scaler = StandardScaler()\n",
    "X_scaled = scaler.fit_transform(X.drop(columns=['const']))\n",
    "\n",
    "# Aplicar PCA\n",
    "pca = PCA(n_components=3)  # Número de componentes principales deseados\n",
    "X_pca = pca.fit_transform(X_scaled)\n",
    "\n",
    "# Convertir a DataFrame y añadir constante\n",
    "X_pca = sm.add_constant(pd.DataFrame(X_pca, columns=['CP1', 'CP2', 'CP3']))\n",
    "\n",
    "# Ajustar el modelo de regresión lineal con las componentes principales\n",
    "modelo_pca = sm.OLS(datos['salario'], X_pca).fit()\n",
    "print(modelo_pca.summary())"
   ]
  },
  {
   "cell_type": "code",
   "execution_count": null,
   "id": "f14a64c5-77a0-4900-93cd-1c818039160b",
   "metadata": {},
   "outputs": [],
   "source": [
    "# *** Evaluando multicolinealidad: VIF ***\n",
    "from statsmodels.stats.outliers_influence import variance_inflation_factor\n",
    "# VIF para cada variable\n",
    "vif_data = pd.DataFrame()\n",
    "vif_data[\"Variable\"] = X_pca.columns\n",
    "vif_data[\"VIF\"] = [variance_inflation_factor(X_pca.values, i) for i in range(X_pca.shape[1])]\n",
    "print(vif_data)"
   ]
  },
  {
   "cell_type": "code",
   "execution_count": null,
   "id": "d69c4432-5cbc-42d8-87b4-5cb068c1b9e4",
   "metadata": {},
   "outputs": [],
   "source": [
    "# *** Evaluando multicolinealidad: Numero de condicion de Belsley ***\n",
    "norm_x = X_pca.values\n",
    "for i, name in enumerate(X_pca):\n",
    "    if name == \"const\":\n",
    "        continue\n",
    "    norm_x[:, i] = X_pca[name] / np.linalg.norm(X_pca[name])\n",
    "norm_xtx = np.dot(norm_x.T, norm_x)\n",
    "eigs = np.linalg.eigvals(norm_xtx)\n",
    "numero_de_condicion_de_Belsley = np.sqrt(eigs.max() / eigs.min())\n",
    "print(numero_de_condicion_de_Belsley)"
   ]
  }
 ],
 "metadata": {
  "kernelspec": {
   "display_name": "anaconda-2024.02-py310",
   "language": "python",
   "name": "conda-env-anaconda-2024.02-py310-py"
  },
  "language_info": {
   "codemirror_mode": {
    "name": "ipython",
    "version": 3
   },
   "file_extension": ".py",
   "mimetype": "text/x-python",
   "name": "python",
   "nbconvert_exporter": "python",
   "pygments_lexer": "ipython3",
   "version": "3.10.14"
  }
 },
 "nbformat": 4,
 "nbformat_minor": 5
}
