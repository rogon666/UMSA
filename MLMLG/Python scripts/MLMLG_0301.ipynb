{
 "cells": [
  {
   "cell_type": "code",
   "execution_count": null,
   "id": "9bb6cda3-36fb-4a4b-9af2-f2e7d8990d40",
   "metadata": {},
   "outputs": [],
   "source": [
    "# ==========================================================\n",
    "# Maestría en Ciencia y Análisis de Datos\n",
    "# Universidad Mayor de San Andrés\n",
    "# ----------------------------------------------------------\n",
    "#   Modelos lineales y modelos lineales generalizados\n",
    "# ----------------------------------------------------------\n",
    "#        Rolando Gonzales Martinez, Agosto 2024\n",
    "# ==========================================================\n",
    "#        Modelo de Regresión Logistico (Logit)\n",
    "# ==========================================================\n",
    "\n",
    "import pandas as pd\n",
    "import numpy as np\n",
    "import matplotlib.pyplot as plt\n",
    "import seaborn as sns\n",
    "from sklearn.linear_model import LogisticRegression\n",
    "import statsmodels.api as sm\n",
    "import statsmodels.formula.api as smf\n",
    "\n",
    "# --------------------- Cargar datos ----------------------------------\n",
    "url = \"https://raw.githubusercontent.com/rogon666/UMSA/main/MLMLG/datos/empleados_balanceado_num.csv\"\n",
    "datos = pd.read_csv(url)\n",
    "\n",
    "# Convertir la columna 'renuncia' a binaria (0 = No, 1 = Si)\n",
    "datos['renuncia_binaria'] = np.where(datos['renuncia'] == 'Si', 1, 0)\n",
    "datos['renuncia_binaria'] = datos['renuncia_binaria'].astype('category')\n",
    "\n",
    "# Calcular el número de ceros y unos, y sus porcentajes\n",
    "conteo_renuncias = datos['renuncia_binaria'].value_counts().reset_index()\n",
    "conteo_renuncias.columns = ['renuncia_binaria', 'count']\n",
    "conteo_renuncias['percentage'] = (conteo_renuncias['count'] / conteo_renuncias['count'].sum()) * 100\n",
    "conteo_renuncias['renuncia_binaria'] = conteo_renuncias['renuncia_binaria'].map({0: 'No', 1: 'Si'})\n",
    "print(datos.head())"
   ]
  }
 ],
 "metadata": {
  "kernelspec": {
   "display_name": "anaconda-2024.02-py310",
   "language": "python",
   "name": "conda-env-anaconda-2024.02-py310-py"
  },
  "language_info": {
   "codemirror_mode": {
    "name": "ipython",
    "version": 3
   },
   "file_extension": ".py",
   "mimetype": "text/x-python",
   "name": "python",
   "nbconvert_exporter": "python",
   "pygments_lexer": "ipython3",
   "version": "3.10.14"
  }
 },
 "nbformat": 4,
 "nbformat_minor": 5
}
