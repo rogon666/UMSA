{
 "cells": [
  {
   "cell_type": "code",
   "execution_count": null,
   "id": "f0f4f5c7-2a4d-450e-80cc-bd747e3a2ec8",
   "metadata": {},
   "outputs": [],
   "source": [
    "# ==========================================================\n",
    "# Maestría en Ciencia y Análisis de Datos\n",
    "# Universidad Mayor de San Andrés\n",
    "# ----------------------------------------------------------\n",
    "#   Modelos lineales y modelos lineales generalizados\n",
    "# ----------------------------------------------------------\n",
    "#        Rolando Gonzales Martinez, Julio 2024\n",
    "# ==========================================================\n",
    "# Modelos lineales generalizados: regresion de Poisson\n",
    "import pandas as pd\n",
    "import numpy as np\n",
    "import statsmodels.api as sm\n",
    "import statsmodels.formula.api as smf\n",
    "import seaborn as sns\n",
    "import warnings\n",
    "warnings.filterwarnings('ignore')\n",
    "from scipy import stats\n",
    "import matplotlib.pyplot as plt\n",
    "from statsmodels.discrete.discrete_model import Poisson\n",
    "from statsmodels.discrete.diagnostic import PoissonDiagnostic\n",
    "\n",
    "data = {\n",
    "    'Embarazos reportados': [0, 1, 2, 3, 4],\n",
    "    'n': [1011, 190, 32, 6, 2],\n",
    "    '%': [81.5, 15.3, 2.6, 0.5, 0.2]\n",
    "}\n",
    "\n",
    "df = pd.DataFrame(data)\n",
    "print(df)\n",
    "\n",
    "# Gráfico de barras\n",
    "plt.figure(figsize=(4, 4))\n",
    "plt.bar(df['Embarazos reportados'], df['%'], color='brown')\n",
    "plt.title('Frecuencia de Embarazos Adolescentes')\n",
    "plt.xlabel('Embarazos reportados')\n",
    "plt.ylabel('Porcentaje (%)')\n",
    "plt.xticks(df['Embarazos reportados'])\n",
    "plt.grid(True)\n",
    "plt.show()"
   ]
  },
  {
   "cell_type": "code",
   "execution_count": null,
   "id": "acadb0f7-c6c3-44cf-8e00-ce5c6e443333",
   "metadata": {},
   "outputs": [],
   "source": [
    "# Cargar el conjunto de datos:\n",
    "url = \"https://raw.githubusercontent.com/rogon666/UMSA/main/MLMLG/datos/crimenes.csv\"\n",
    "datos = pd.read_csv(url)\n",
    "print(datos.head())\n",
    "'''\n",
    "Ejemplo de motivación: crimenes en instituciones postsecundarias Estados Unidos:\n",
    "matriculados = personas matriculadas\n",
    "tipo = colegio (C) o universidad (U)\n",
    "nv = número de delitos violentos cometidos en la universidad o colegio\n",
    "nvrate = número de delitos violentos por cada 1000 estudiantes\n",
    "matriculados = personas matriculadas, en miles\n",
    "region = región del país (C = Central, \n",
    "                         MO = Medio Oeste, \n",
    "                         NE = Noreste, \n",
    "                         SE = Sudeste, \n",
    "                         SO = Suroeste y \n",
    "                         O = Oeste)\n",
    "Fuente: US Department of Education\n",
    "'''"
   ]
  },
  {
   "cell_type": "code",
   "execution_count": null,
   "id": "69ef295a-d928-41c2-a472-76e6c9fc0d26",
   "metadata": {},
   "outputs": [],
   "source": [
    "# Plot the distribution of the number of violent crimes (nv)\n",
    "plt.figure(figsize=(5, 6))\n",
    "hist = sns.histplot(datos['nv'], bins=15, kde=True, color='limegreen')\n",
    "plt.title('Distribución de Crímenes Violentos en EE.UU.')\n",
    "plt.xlabel('Número de Crímenes Violentos')\n",
    "plt.ylabel('Frecuencia')\n",
    "plt.grid(True)\n",
    "# Ajustando las marcas de los ticks en el eje x al centro de las barras:\n",
    "bin_edges = hist.patches[0].get_bbox().bounds\n",
    "bin_centers = 0.45 * (hist.patches[0].get_width()) + np.array([p.get_x() for p in hist.patches])\n",
    "plt.xticks(bin_centers, [f'{int(b)}' for b in bin_centers])\n",
    "plt.show()"
   ]
  },
  {
   "cell_type": "code",
   "execution_count": null,
   "id": "0847291a-a3c9-4bfd-80ce-a4df23d0d2dd",
   "metadata": {},
   "outputs": [],
   "source": [
    "# Crear el gráfico de nv contra matriculados\n",
    "plt.figure(figsize=(5, 6))\n",
    "sns.scatterplot(data=datos, x='matriculados', y='nv')\n",
    "sns.regplot(data=datos, x='matriculados', y='nv', scatter=False, \n",
    "            logx=True, ci=None, line_kws={\"color\": \"red\"})\n",
    "plt.title(\"Número de Crímenes vs Matriculados\")\n",
    "plt.xlabel(\"Matriculados\")\n",
    "plt.ylabel(\"Número de Crímenes\")\n",
    "plt.show()\n",
    "\n",
    "# Crear el gráfico de nv contra region\n",
    "plt.figure(figsize=(5, 6))\n",
    "sns.boxplot(data=datos, x='region', y='nv')\n",
    "plt.title(\"Número de Crímenes por Región\")\n",
    "plt.xlabel(\"Región USA\")\n",
    "plt.ylabel(\"Número de Crímenes\")\n",
    "plt.show()"
   ]
  },
  {
   "cell_type": "code",
   "execution_count": null,
   "id": "e1669c9c-41c4-4e21-9715-c675948b6552",
   "metadata": {},
   "outputs": [],
   "source": [
    "# Ajustando los modelos Poisson\n",
    "modelo_completo = smf.poisson('nv ~ matriculados + tipo + region', data=datos).fit()\n",
    "print(modelo_completo.summary())"
   ]
  },
  {
   "cell_type": "code",
   "execution_count": null,
   "id": "8b15cda3-c175-4fae-8d65-d47cc9748626",
   "metadata": {},
   "outputs": [],
   "source": [
    "# Poisson con offset\n",
    "datos['log_matriculados'] = np.log(datos['matriculados'])\n",
    "\n",
    "# Ajustando el modelo Poisson con offset de log(matriculados)\n",
    "modelo_completo = smf.poisson('nv ~ tipo + region', data=datos, offset=datos['log_matriculados']).fit()\n",
    "print(modelo_completo.summary())"
   ]
  },
  {
   "cell_type": "code",
   "execution_count": null,
   "id": "01a74b1f-d1db-4fe0-b8e3-15e687258b86",
   "metadata": {},
   "outputs": [],
   "source": [
    "# Ajustar un modelo quasi-Poisson\n",
    "modelo_completo = smf.glm('nv ~ tipo + region',\n",
    "                          data=datos,\n",
    "                          offset=datos['log_matriculados'],\n",
    "                          family=sm.families.Poisson()).fit(scale='X2')\n",
    "print(modelo_completo.summary())"
   ]
  },
  {
   "cell_type": "code",
   "execution_count": null,
   "id": "83a7b4e1-3d93-4bf1-aea6-33d51d87a7d6",
   "metadata": {},
   "outputs": [],
   "source": [
    "# Poisson con offset y MVCV robusta\n",
    "modelo_completo = smf.poisson('nv ~ tipo + region', \n",
    "                              data=datos, \n",
    "                              offset=datos['log_matriculados']).fit(cov_type='HC0')\n",
    "print(modelo_completo.summary())"
   ]
  },
  {
   "cell_type": "code",
   "execution_count": null,
   "id": "875e8732-8e02-4115-805a-dce65d7d955d",
   "metadata": {},
   "outputs": [],
   "source": [
    "# Binomial negativo con offset y MVC robusta\n",
    "modelo_completo = smf.negativebinomial('nv ~ tipo + region', \n",
    "                                       data=datos, offset=datos['log_matriculados']).fit(cov_type='HC0')\n",
    "print(modelo_completo.summary())"
   ]
  },
  {
   "cell_type": "code",
   "execution_count": null,
   "id": "db0571e6-dc2e-4dc9-b41a-81a4943fa5ee",
   "metadata": {},
   "outputs": [],
   "source": [
    "# Modelo binomial con inflacion de zeros y MVC robusta\n",
    "from statsmodels.discrete.count_model import ZeroInflatedNegativeBinomialP\n",
    "# fórmula del modelo\n",
    "formula = 'nv ~ tipo + region'\n",
    "\n",
    "# variables para la inflación de ceros como matriz de diseño\n",
    "exog_infl = datos[['tipo', 'region']]\n",
    "exog_infl = sm.add_constant(exog_infl)  # Agregar intercepto\n",
    "exog_infl = exog_infl.to_numpy()  # Convertir a array de numpy\n",
    "\n",
    "# Ajustar el modelo Zero-Inflated Negative Binomial con offset\n",
    "modelo_completo = ZeroInflatedNegativeBinomialP.from_formula(formula, \n",
    "                                                             data=datos, \n",
    "                                                             exog_infl=exog_infl,  # Modelo para la inflación de ceros\n",
    "                                                             offset=np.log(datos['matriculados'])).fit(cov_type='HC0')\n",
    "\n",
    "print(modelo_completo.summary())"
   ]
  },
  {
   "cell_type": "code",
   "execution_count": null,
   "id": "ff9cd2c0-6a68-4e66-8d8d-a973f4ad7b89",
   "metadata": {},
   "outputs": [],
   "source": [
    "from statsmodels.discrete.count_model import ZeroInflatedPoisson\n",
    "# Asegúrate de que las variables categóricas estén codificadas adecuadamente\n",
    "formula = 'nv ~ tipo + region'\n",
    "\n",
    "# variables para la inflación de ceros como matriz de diseño\n",
    "exog_infl = datos[['tipo', 'region']]\n",
    "exog_infl = sm.add_constant(exog_infl)  # Agregar intercepto\n",
    "exog_infl = exog_infl.to_numpy()  # Convertir a array de numpy\n",
    "\n",
    "# Ajustar el modelo Zero-Inflated Poisson con offset\n",
    "modelo_completo = ZeroInflatedPoisson.from_formula(formula, \n",
    "                                                   data=datos, \n",
    "                                                   exog_infl=exog_infl,  # Modelo para la inflación de ceros\n",
    "                                                   offset=datos['log_matriculados']).fit(cov_type='HC0')\n",
    "print(modelo_completo.summary())\n"
   ]
  }
 ],
 "metadata": {
  "kernelspec": {
   "display_name": "anaconda-2024.02-py310",
   "language": "python",
   "name": "conda-env-anaconda-2024.02-py310-py"
  },
  "language_info": {
   "codemirror_mode": {
    "name": "ipython",
    "version": 3
   },
   "file_extension": ".py",
   "mimetype": "text/x-python",
   "name": "python",
   "nbconvert_exporter": "python",
   "pygments_lexer": "ipython3",
   "version": "3.10.14"
  }
 },
 "nbformat": 4,
 "nbformat_minor": 5
}
