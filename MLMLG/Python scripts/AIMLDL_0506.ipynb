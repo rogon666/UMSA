{
  "nbformat": 4,
  "nbformat_minor": 0,
  "metadata": {
    "colab": {
      "provenance": []
    },
    "kernelspec": {
      "name": "python3",
      "display_name": "Python 3"
    },
    "language_info": {
      "name": "python"
    }
  },
  "cells": [
    {
      "cell_type": "code",
      "execution_count": null,
      "metadata": {
        "id": "6bKy4TIfMLKO"
      },
      "outputs": [],
      "source": [
        "# ==========================================================\n",
        "# Maestría en Ciencia y Análisis de Datos\n",
        "# Universidad Mayor de San Andrés\n",
        "# ----------------------------------------------------------\n",
        "#            Machine Learning y Deep Learning\n",
        "# ----------------------------------------------------------\n",
        "#         Rolando Gonzales Martinez, Agosto 2024\n",
        "# ==========================================================\n",
        "#           Redes neuronales profundas LSTM\n",
        "# ==========================================================\n",
        "import numpy as np\n",
        "import pandas as pd\n",
        "import matplotlib.pyplot as plt\n",
        "from sklearn.preprocessing import MinMaxScaler\n",
        "from sklearn.metrics import mean_absolute_error, mean_squared_error\n",
        "from sklearn.model_selection import train_test_split\n",
        "from tensorflow.keras.models import Sequential\n",
        "from tensorflow.keras.regularizers import l2\n",
        "from tensorflow.keras.layers import LSTM, Dense, Dropout"
      ]
    },
    {
      "cell_type": "code",
      "source": [
        "# ---------------------- Cargando datos ----------------------------------------\n",
        "# Cargar el conjunto de datos:\n",
        "url =  \"https://raw.githubusercontent.com/rogon666/UMSA/main/AIMLDL/Datos/BTCUSD.csv\"\n",
        "# Cargar los datos en un DataFrame\n",
        "data= pd.read_csv(url)\n",
        "# Mostrar las primeras filas del DataFrame\n",
        "print(data.head())"
      ],
      "metadata": {
        "id": "u9cD3td2Mdp2"
      },
      "execution_count": null,
      "outputs": []
    },
    {
      "cell_type": "code",
      "source": [
        "# Preparacion de datos\n",
        "# Preparar el objetivo (y)\n",
        "y = data['Close'].values.reshape(-1, 1)\n",
        "\n",
        "# Crear la matriz de características X como rezagos de y\n",
        "def create_lagged_features(y, lag=1):\n",
        "    X = np.zeros((len(y) - lag, lag))\n",
        "    for i in range(lag):\n",
        "        X[:, i] = y[(lag - i - 1):(len(y) - i - 1), 0]\n",
        "    y_lagged = y[lag:]\n",
        "    return X, y_lagged\n",
        "\n",
        "# Usar rezagos para las características\n",
        "lag = 60\n",
        "X, y_lagged = create_lagged_features(y, lag)\n",
        "\n",
        "# Escalar los datos\n",
        "scaler_X = MinMaxScaler(feature_range=(0, 1))\n",
        "scaler_y = MinMaxScaler(feature_range=(0, 1))\n",
        "\n",
        "X = scaler_X.fit_transform(X)\n",
        "y_lagged = scaler_y.fit_transform(y_lagged)\n",
        "\n",
        "# Reshape para que sea compatible con LSTM/GRU (samples, time steps, features)\n",
        "X = X.reshape(X.shape[0], X.shape[1], 1)\n",
        "\n",
        "# Partición de los datos\n",
        "X_train, X_test, y_train, y_test = train_test_split(X, y_lagged, test_size=0.15, shuffle=False)"
      ],
      "metadata": {
        "id": "rk5MREKMMhr0"
      },
      "execution_count": null,
      "outputs": []
    },
    {
      "cell_type": "code",
      "source": [
        "# Definir el modelo LSTM profundo\n",
        "deepLSTM = Sequential()\n",
        "# Capa de entrada LSTM, regularizada con drop-out\n",
        "deepLSTM.add(LSTM(units=128, return_sequences=True, input_shape=(X_train.shape[1], 1)))\n",
        "deepLSTM.add(Dropout(0.3))\n",
        "# Segunda capa LSTM, regularizada con una penalidad L2\n",
        "deepLSTM.add(LSTM(units=128, return_sequences=True, kernel_regularizer=l2(0.01)))\n",
        "# Tercera capa LSTM (sin return_sequences porque es la última capa LSTM), regularizada con drop-out\n",
        "deepLSTM.add(LSTM(units=64))\n",
        "deepLSTM.add(Dropout(0.3))\n",
        "# Capa densa despues de LSTM:\n",
        "deepLSTM.add(Dense(64, activation='relu'))  # Capa densa después de las LSTM\n",
        "# Capa densa de salida:\n",
        "deepLSTM.add(Dense(1))  # Capa de salida\n",
        "\n",
        "# Compilación del modelo\n",
        "deepLSTM.compile(optimizer='adam',\n",
        "                 loss='mean_squared_error')\n",
        "\n",
        "# Entrenamiento del modelo\n",
        "deepLSTM.fit(X_train, y_train, epochs=10)"
      ],
      "metadata": {
        "id": "gHP0KWyBMnXd"
      },
      "execution_count": null,
      "outputs": []
    },
    {
      "cell_type": "code",
      "source": [
        "# Predicción con el modelo LSTM profundo\n",
        "y_pred_train_lstm = deepLSTM.predict(X_train)\n",
        "y_pred_test_lstm = deepLSTM.predict(X_test)\n",
        "\n",
        "# Desnormalizar para evaluar correctamente\n",
        "y_train_actual = scaler_y.inverse_transform(y_train)\n",
        "y_test_actual = scaler_y.inverse_transform(y_test)\n",
        "y_pred_train_lstm_actual = scaler_y.inverse_transform(y_pred_train_lstm)\n",
        "y_pred_test_lstm_actual = scaler_y.inverse_transform(y_pred_test_lstm)\n",
        "\n",
        "# Evaluación del modelo LSTM\n",
        "mae_train_lstm = mean_absolute_error(y_train_actual, y_pred_train_lstm_actual)\n",
        "rmse_train_lstm = np.sqrt(mean_squared_error(y_train_actual, y_pred_train_lstm_actual))\n",
        "mae_test_lstm = mean_absolute_error(y_test_actual, y_pred_test_lstm_actual)\n",
        "rmse_test_lstm = np.sqrt(mean_squared_error(y_test_actual, y_pred_test_lstm_actual))\n",
        "\n",
        "print(f\"LSTM MAE (train): {mae_train_lstm}\")\n",
        "print(f\"LSTM RMSE (train): {rmse_train_lstm}\")\n",
        "print(f\"LSTM MAE (test): {mae_test_lstm}\")\n",
        "print(f\"LSTM RMSE (test): {rmse_test_lstm}\")\n",
        "\n",
        "# Gráficos de comparación\n",
        "plt.figure(figsize=(7, 7))\n",
        "\n",
        "# Predicciones vs Realidad para LSTM\n",
        "plt.plot(y_test_actual, label='Valores observados')\n",
        "plt.plot(y_pred_test_lstm_actual, label='Valores predichos LSTM')\n",
        "plt.title('Comparación entre los precios reales y predichos (LSTM)')\n",
        "plt.xlabel('Días')\n",
        "plt.ylabel('Precio Bitcoin (USD)')\n",
        "plt.legend()"
      ],
      "metadata": {
        "id": "AHRdZKVVOGjw"
      },
      "execution_count": null,
      "outputs": []
    }
  ]
}