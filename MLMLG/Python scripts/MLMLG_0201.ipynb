{
 "cells": [
  {
   "cell_type": "code",
   "execution_count": 9,
   "id": "8ac6091e-22a1-4f5e-ab85-32cc47efc7f8",
   "metadata": {},
   "outputs": [
    {
     "name": "stdout",
     "output_type": "stream",
     "text": [
      "   salario  educacion  educacionmadre  edad  antiguedad_ejecutivo  \\\n",
      "0     1161         12              11    49                     6   \n",
      "1      600         10               9    43                     5   \n",
      "2      379          9               8    51                     5   \n",
      "3      651          8               9    55                     4   \n",
      "4      497         10               9    44                     5   \n",
      "\n",
      "   educacion_grado  antiguedad  educacion_posgrado  valor_empresa  \\\n",
      "0                1           9                   1          23200   \n",
      "1                1          10                   1           1100   \n",
      "2                1           9                   1           1100   \n",
      "3                1          22                   0           1000   \n",
      "4                1           8                   1            387   \n",
      "\n",
      "   beneficios_empresa  ventas_empresa  \n",
      "0                 966            6200  \n",
      "1                  48             283  \n",
      "2                  40             169  \n",
      "3                 -54            1100  \n",
      "4                  28             351  \n"
     ]
    }
   ],
   "source": [
    "# ==========================================================\n",
    "# Maestría en Ciencia y Análisis de Datos\n",
    "# Universidad Mayor de San Andrés\n",
    "# ----------------------------------------------------------\n",
    "#   Modelos lineales y modelos lineales generalizados\n",
    "# ----------------------------------------------------------\n",
    "#        Rolando Gonzales Martinez, Julio 2024\n",
    "# ==========================================================\n",
    "# Modelo lineal multivariante: evaluacion de modelos \n",
    "# Linealidad, normalidad, homocedasticidad y correlacion de los errores \n",
    "\n",
    "# Importando librerias:\n",
    "import numpy as np\n",
    "import pandas as pd\n",
    "import statsmodels.api as sm\n",
    "import statsmodels.formula.api as smf\n",
    "import statsmodels.stats.api as sms\n",
    "\n",
    "\n",
    "# Cargar el conjunto de datos:\n",
    "url = 'https://raw.githubusercontent.com/rogon666/UMSA/main/MLMLG/datos/salarios.csv'\n",
    "\n",
    "# Cargar los datos en un DataFrame\n",
    "datos = pd.read_csv(url)\n",
    "\n",
    "# Mostrar las primeras filas del DataFrame\n",
    "print(datos.head())"
   ]
  },
  {
   "cell_type": "code",
   "execution_count": 10,
   "id": "34a47893-fca5-4583-bcba-f76908a3cd53",
   "metadata": {},
   "outputs": [
    {
     "name": "stdout",
     "output_type": "stream",
     "text": [
      "                            OLS Regression Results                            \n",
      "==============================================================================\n",
      "Dep. Variable:                salario   R-squared:                       0.929\n",
      "Model:                            OLS   Adj. R-squared:                  0.928\n",
      "Method:                 Least Squares   F-statistic:                     754.5\n",
      "Date:                Wed, 24 Jul 2024   Prob (F-statistic):           4.39e-99\n",
      "Time:                        21:58:44   Log-Likelihood:                -1145.1\n",
      "No. Observations:                 177   AIC:                             2298.\n",
      "Df Residuals:                     173   BIC:                             2311.\n",
      "Df Model:                           3                                         \n",
      "Covariance Type:            nonrobust                                         \n",
      "======================================================================================\n",
      "                         coef    std err          t      P>|t|      [0.025      0.975]\n",
      "--------------------------------------------------------------------------------------\n",
      "const              -1920.2137     97.087    -19.778      0.000   -2111.840   -1728.587\n",
      "educacion            320.2701      6.781     47.231      0.000     306.886     333.654\n",
      "edad                  -1.5752      1.439     -1.095      0.275      -4.416       1.265\n",
      "educacion_posgrado  -668.2217     27.978    -23.884      0.000    -723.444    -613.000\n",
      "==============================================================================\n",
      "Omnibus:                      240.656   Durbin-Watson:                   2.081\n",
      "Prob(Omnibus):                  0.000   Jarque-Bera (JB):            21651.868\n",
      "Skew:                           5.505   Prob(JB):                         0.00\n",
      "Kurtosis:                      56.053   Cond. No.                         474.\n",
      "==============================================================================\n",
      "\n",
      "Notes:\n",
      "[1] Standard Errors assume that the covariance matrix of the errors is correctly specified.\n"
     ]
    }
   ],
   "source": [
    "# Definir las variables independientes y dependientes\n",
    "X = datos[['educacion', 'edad', 'educacion_posgrado']]\n",
    "y = datos['salario']\n",
    "\n",
    "# Añadir una constante a las variables independientes\n",
    "X = sm.add_constant(X)\n",
    "\n",
    "# Ajustar el modelo de regresión lineal\n",
    "modelo_OLS = sm.OLS(y, X).fit()\n",
    "\n",
    "# Resumen del modelo\n",
    "print(modelo_OLS.summary())"
   ]
  },
  {
   "cell_type": "code",
   "execution_count": 11,
   "id": "5e0e406f-09c5-4924-a280-31b08c835787",
   "metadata": {},
   "outputs": [
    {
     "name": "stdout",
     "output_type": "stream",
     "text": [
      "                            OLS Regression Results                            \n",
      "==============================================================================\n",
      "Dep. Variable:                salario   R-squared:                       0.929\n",
      "Model:                            OLS   Adj. R-squared:                  0.928\n",
      "Method:                 Least Squares   F-statistic:                     754.5\n",
      "Date:                Wed, 24 Jul 2024   Prob (F-statistic):           4.39e-99\n",
      "Time:                        21:58:47   Log-Likelihood:                -1145.1\n",
      "No. Observations:                 177   AIC:                             2298.\n",
      "Df Residuals:                     173   BIC:                             2311.\n",
      "Df Model:                           3                                         \n",
      "Covariance Type:            nonrobust                                         \n",
      "======================================================================================\n",
      "                         coef    std err          t      P>|t|      [0.025      0.975]\n",
      "--------------------------------------------------------------------------------------\n",
      "Intercept          -1920.2137     97.087    -19.778      0.000   -2111.840   -1728.587\n",
      "educacion            320.2701      6.781     47.231      0.000     306.886     333.654\n",
      "edad                  -1.5752      1.439     -1.095      0.275      -4.416       1.265\n",
      "educacion_posgrado  -668.2217     27.978    -23.884      0.000    -723.444    -613.000\n",
      "==============================================================================\n",
      "Omnibus:                      240.656   Durbin-Watson:                   2.081\n",
      "Prob(Omnibus):                  0.000   Jarque-Bera (JB):            21651.868\n",
      "Skew:                           5.505   Prob(JB):                         0.00\n",
      "Kurtosis:                      56.053   Cond. No.                         474.\n",
      "==============================================================================\n",
      "\n",
      "Notes:\n",
      "[1] Standard Errors assume that the covariance matrix of the errors is correctly specified.\n"
     ]
    }
   ],
   "source": [
    "# Ajustando el modelo de regresion utilizando una formula:\n",
    "resultados = smf.ols(\"salario ~ educacion + edad + educacion_posgrado\", data=datos).fit()\n",
    "\n",
    "# Resultados\n",
    "print(resultados.summary())"
   ]
  },
  {
   "cell_type": "code",
   "execution_count": 12,
   "id": "a7a1a02a-d724-4238-9387-fa7c16872854",
   "metadata": {},
   "outputs": [
    {
     "name": "stdout",
     "output_type": "stream",
     "text": [
      "Estadígrafo HC: 0.5802422316806765\n",
      "p-value HC ~ t(n-k-1): 0.5625062662422351\n"
     ]
    }
   ],
   "source": [
    "# Test de linealidad: Harvey-Collier\n",
    "test = sms.linear_harvey_collier(resultados)\n",
    "print(f'Estadígrafo HC: {test[0]}')\n",
    "print(f'p-value HC ~ t(n-k-1): {test[1]}')"
   ]
  },
  {
   "cell_type": "code",
   "execution_count": 13,
   "id": "825e8179-2f14-4cab-b021-e368afbcb070",
   "metadata": {},
   "outputs": [
    {
     "name": "stdout",
     "output_type": "stream",
     "text": [
      "Estadígrafo Jarque-Bera (JB): 21651.867549974988\n",
      "p-value JB ~ chi^2(2): 0.0\n",
      "Sesgo: 5.504584983234719\n",
      "Curtosis: 56.053224445867784\n"
     ]
    }
   ],
   "source": [
    "# Test de normalidad de residuos: Jarque-Bera\n",
    "test = sms.jarque_bera(resultados.resid)\n",
    "print(f'Estadígrafo Jarque-Bera (JB): {test[0]}')\n",
    "print(f'p-value JB ~ chi^2(2): {test[1]}')\n",
    "print(f'Sesgo: {test[2]}')\n",
    "print(f'Curtosis: {test[3]}')"
   ]
  },
  {
   "cell_type": "code",
   "execution_count": 14,
   "id": "4b042784-635f-406c-bdea-751479eed92b",
   "metadata": {},
   "outputs": [
    {
     "name": "stdout",
     "output_type": "stream",
     "text": [
      "Estadígrafo Omni: 240.65557645872698\n",
      "p-value omni ~ chi^2(2): 5.524659957306687e-53\n"
     ]
    }
   ],
   "source": [
    "# Test de normalidad de residuos: Omnibus de D’Agostino and Pearson\n",
    "test = sms.omni_normtest(resultados.resid)\n",
    "print(f'Estadígrafo Omni: {test[0]}')\n",
    "print(f'p-value omni ~ chi^2(2): {test[1]}')\n",
    "# D’Agostino, R. B. (1971), “An omnibus test of normality for moderate and large sample size”, Biometrika, 58, 341-348\n",
    "# D’Agostino, R. and Pearson, E. S. (1973), “Tests for departure from normality”, Biometrika, 60, 613-622"
   ]
  },
  {
   "cell_type": "code",
   "execution_count": 15,
   "id": "4db71953-ba9c-43e7-a838-a9ede8e1e3d9",
   "metadata": {},
   "outputs": [
    {
     "name": "stdout",
     "output_type": "stream",
     "text": [
      "Estadígrafo LMBP: 28.58445881065216\n",
      "p-value LMBP ~ chi^2(k-1): 2.7380083970109536e-06\n",
      "Estadígrafo FBP: 11.106454518654198\n",
      "p-value FBP ~ F(k,n-k-1): 1.0533061229143745e-06\n"
     ]
    }
   ],
   "source": [
    "# Test Homocedasticidad: Breusch–Pagan\n",
    "test = sms.het_breuschpagan(resultados.resid, resultados.model.exog)\n",
    "print(f'Estadígrafo LMBP: {test[0]}')\n",
    "print(f'p-value LMBP ~ chi^2(k-1): {test[1]}')\n",
    "print(f'Estadígrafo FBP: {test[2]}')\n",
    "print(f'p-value FBP ~ F(k,n-k-1): {test[3]}')"
   ]
  },
  {
   "cell_type": "code",
   "execution_count": 16,
   "id": "994c77fd-4497-411a-85b0-a9f37f65171b",
   "metadata": {},
   "outputs": [
    {
     "name": "stdout",
     "output_type": "stream",
     "text": [
      "Estadígrafo FGQ: 5.020218865306849\n",
      "p-value FGQ ~ F(n1-k,n2-k): 8.694729000659282e-13\n"
     ]
    }
   ],
   "source": [
    "# Test Homocedasticidad: Goldfeld-Quandt\n",
    "test = sms.het_goldfeldquandt(resultados.resid, resultados.model.exog)\n",
    "print(f'Estadígrafo FGQ: {test[0]}')\n",
    "print(f'p-value FGQ ~ F(n1-k,n2-k): {test[1]}')"
   ]
  },
  {
   "cell_type": "code",
   "execution_count": 17,
   "id": "05ceb0b2-0120-426f-a29b-dad9d2c7acbe",
   "metadata": {},
   "outputs": [
    {
     "name": "stdout",
     "output_type": "stream",
     "text": [
      "Estadístico LMW: 127.49891358864983\n",
      "p-value LMW ~ chi^2(k-1): 9.328969637031958e-24\n"
     ]
    }
   ],
   "source": [
    "# Test Homocedasticidad: White\n",
    "from statsmodels.stats.diagnostic import het_white\n",
    "white_test = het_white(resultados.resid, resultados.model.exog)\n",
    "print(f'Estadístico LMW: {white_test[0]}')\n",
    "print(f'p-value LMW ~ chi^2(k-1): {white_test[1]}')"
   ]
  },
  {
   "cell_type": "code",
   "execution_count": 19,
   "id": "4e972701-e674-451e-8aa9-7ae77508d06d",
   "metadata": {},
   "outputs": [
    {
     "name": "stdout",
     "output_type": "stream",
     "text": [
      "                            OLS Regression Results                            \n",
      "==============================================================================\n",
      "Dep. Variable:        np.log(salario)   R-squared:                       0.839\n",
      "Model:                            OLS   Adj. R-squared:                  0.836\n",
      "Method:                 Least Squares   F-statistic:                     300.3\n",
      "Date:                Wed, 24 Jul 2024   Prob (F-statistic):           2.52e-68\n",
      "Time:                        22:02:33   Log-Likelihood:               -0.44019\n",
      "No. Observations:                 177   AIC:                             8.880\n",
      "Df Residuals:                     173   BIC:                             21.58\n",
      "Df Model:                           3                                         \n",
      "Covariance Type:            nonrobust                                         \n",
      "======================================================================================\n",
      "                         coef    std err          t      P>|t|      [0.025      0.975]\n",
      "--------------------------------------------------------------------------------------\n",
      "Intercept              3.9092      0.151     25.916      0.000       3.611       4.207\n",
      "educacion              0.3145      0.011     29.856      0.000       0.294       0.335\n",
      "edad                  -0.0028      0.002     -1.259      0.210      -0.007       0.002\n",
      "educacion_posgrado    -0.6395      0.043    -14.712      0.000      -0.725      -0.554\n",
      "==============================================================================\n",
      "Omnibus:                       96.149   Durbin-Watson:                   1.915\n",
      "Prob(Omnibus):                  0.000   Jarque-Bera (JB):              467.157\n",
      "Skew:                          -2.084   Prob(JB):                    3.62e-102\n",
      "Kurtosis:                       9.780   Cond. No.                         474.\n",
      "==============================================================================\n",
      "\n",
      "Notes:\n",
      "[1] Standard Errors assume that the covariance matrix of the errors is correctly specified.\n",
      "Estadístico LMW: 39.92233224402696\n",
      "p-value LMW ~ chi^2(k-1): 3.312223973049689e-06\n"
     ]
    }
   ],
   "source": [
    "# Transformaciones de variables\n",
    "resultados_logsal = smf.ols(\"np.log(salario) ~ educacion + edad + educacion_posgrado\", data=datos).fit()\n",
    "\n",
    "# Resultados\n",
    "print(resultados_logsal.summary())\n",
    "\n",
    "# Test Homocedasticidad: White\n",
    "from statsmodels.stats.diagnostic import het_white\n",
    "white_test = het_white(resultados_logsal.resid, resultados_logsal.model.exog)\n",
    "print(f'Estadístico LMW: {white_test[0]}')\n",
    "print(f'p-value LMW ~ chi^2(k-1): {white_test[1]}')"
   ]
  },
  {
   "cell_type": "code",
   "execution_count": null,
   "id": "f54ccbd1-36d3-4b02-8577-be7fc6d97184",
   "metadata": {},
   "outputs": [],
   "source": [
    "# Calcular errores estándar robustos usando la matriz de covarianza de tipo HC3\n",
    "robust_cov = modelo_OLS.get_robustcov_results(cov_type='HC3')\n",
    "\n",
    "# Mostrar los resultados con errores estándar robustos\n",
    "print(robust_cov.summary())"
   ]
  },
  {
   "cell_type": "code",
   "execution_count": null,
   "id": "7b7d46b4-e6d7-4ea4-8f2b-8f624adcc29f",
   "metadata": {},
   "outputs": [],
   "source": [
    "# Estimacion con minimos cuadrados ponderados (WLS):\n",
    "import matplotlib.pyplot as plt\n",
    "\n",
    "# Calcular los residuos del modelo OLS\n",
    "residuos = modelo_OLS.resid\n",
    "\n",
    "# Calcular los pesos inversamente proporcionales a los residuos al cuadrado (o a otra medida de varianza)\n",
    "pesos = 1 / (residuos**2)\n",
    "\n",
    "# Ajustar el modelo de regresión ponderada usando WLS\n",
    "wls_model = sm.WLS(y, X, weights=pesos).fit()\n",
    "\n",
    "# Mostrar el resumen del modelo OLS\n",
    "print(\"Resumen del modelo OLS:\")\n",
    "print(modelo_OLS.summary())\n",
    "\n",
    "# Mostrar el resumen del modelo WLS\n",
    "print(\"\\nResumen del modelo WLS:\")\n",
    "print(wls_model.summary())\n",
    "\n",
    "# Graficar los residuos para observar la heterocedasticidad\n",
    "plt.scatter(modelo_OLS.fittedvalues, residuos)\n",
    "plt.xlabel('Valores Ajustados')\n",
    "plt.ylabel('Residuos')\n",
    "plt.title('Gráfico de Residuos (OLS)')\n",
    "plt.axhline(y=0, color='r', linestyle='--')\n",
    "plt.show()\n",
    "\n",
    "# Graficar los residuos ponderados para observar la heterocedasticidad corregida\n",
    "plt.scatter(wls_model.fittedvalues, wls_model.resid)\n",
    "plt.xlabel('Valores Ajustados')\n",
    "plt.ylabel('Residuos Ponderados')\n",
    "plt.title('Gráfico de Residuos Ponderados (WLS)')\n",
    "plt.axhline(y=0, color='r', linestyle='--')\n",
    "plt.show()"
   ]
  },
  {
   "cell_type": "code",
   "execution_count": null,
   "id": "b549d559-d2f5-4aa3-ac7d-97fe08091c0a",
   "metadata": {},
   "outputs": [],
   "source": [
    "# Correlacion de los errores: Test de Durbin-Watson\n",
    "from statsmodels.stats.stattools import durbin_watson\n",
    "from scipy.stats import norm\n",
    "dw_stat = durbin_watson(modelo_OLS.resid)\n",
    "print(f'Estadística de Durbin-Watson: {dw_stat}')\n",
    "# Interpretación basada en valores críticos (asumiendo un nivel de significancia de 0.05)\n",
    "# Nota: Los valores críticos dL y dU dependen de n y k\n",
    "dL = 1.643 # Valor crítico inferior para n = 177 y k = 3 (excluyendo la constante)\n",
    "dU = 1.704  # Valor crítico superior para n = 177 y k = 3 (excluyendo la constante)\n",
    "if dw_stat < dL:\n",
    "    print(\"Evidencia de autocorrelación positiva.\")\n",
    "elif dL <= dw_stat <= dU:\n",
    "    print(\"Prueba inconclusa.\")\n",
    "else:\n",
    "    print(\"No hay evidencia de autocorrelación positiva.\")\n",
    "# Nota: el estadigrafo DW es sesgado (subestima autocorrelacion) en el contexto de AR(I)MA\n",
    "# Calcular la estadística H de Durbin-Watson\n",
    "residuos = modelo_OLS.resid\n",
    "rho_hat = np.corrcoef(residuos[:-1], residuos[1:])[0, 1]\n",
    "n = len(modelo_OLS.resid)\n",
    "k = 5  # Número de variables explicativas excluyendo la constante\n",
    "h_stat = (1 - dw_stat / 2) * np.sqrt(n / (1 - n * (rho_hat**2)))\n",
    "print(f'Estadígrafo H de Durbin-Watson: {h_stat}')\n",
    "# Evaluar la estadística H usando la distribución normal estándar\n",
    "alpha = 0.05\n",
    "z_critical = norm.ppf(1 - alpha / 2)  # Valor crítico para un nivel de significancia de 5%\n",
    "print(f'Valor crítico z para H: {z_critical}')"
   ]
  },
  {
   "cell_type": "code",
   "execution_count": null,
   "id": "a40f0ab8-3f22-4fad-8a03-8e64bc880a65",
   "metadata": {},
   "outputs": [],
   "source": [
    "# Correlacion de los errores: Test Breusch-Godfrey\n",
    "from statsmodels.stats.diagnostic import acorr_breusch_godfrey\n",
    "bg_test = acorr_breusch_godfrey(modelo_OLS, nlags=5)\n",
    "\n",
    "# Resultados del test de Breusch-Godfrey\n",
    "print(f'Estadístico LM: {bg_test[0]}')\n",
    "print(f'Valor p (LM): {bg_test[1]}')\n",
    "print(f'Estadístico F: {bg_test[2]}')\n",
    "print(f'Valor p (F): {bg_test[3]}')\n",
    "\n",
    "# Interpretación de los resultados\n",
    "alpha = 0.05\n",
    "if bg_test[1] < alpha:\n",
    "    print(\"Se rechaza la hipótesis nula de no correlación de los errores. \\nExiste evidencia de correlación de los errores.\")\n",
    "else:\n",
    "    print(\"No se rechaza la hipótesis nula de no correlación de los errores. \\nNo hay evidencia de correlación de los errores.\")"
   ]
  }
 ],
 "metadata": {
  "kernelspec": {
   "display_name": "anaconda-2024.02-py310",
   "language": "python",
   "name": "conda-env-anaconda-2024.02-py310-py"
  },
  "language_info": {
   "codemirror_mode": {
    "name": "ipython",
    "version": 3
   },
   "file_extension": ".py",
   "mimetype": "text/x-python",
   "name": "python",
   "nbconvert_exporter": "python",
   "pygments_lexer": "ipython3",
   "version": "3.10.14"
  }
 },
 "nbformat": 4,
 "nbformat_minor": 5
}
