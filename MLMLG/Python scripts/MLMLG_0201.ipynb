{
 "cells": [
  {
   "cell_type": "code",
   "execution_count": null,
   "id": "8ac6091e-22a1-4f5e-ab85-32cc47efc7f8",
   "metadata": {},
   "outputs": [],
   "source": [
    "# ==========================================================\n",
    "# Maestría en Ciencia y Análisis de Datos\n",
    "# Universidad Mayor de San Andrés\n",
    "# ----------------------------------------------------------\n",
    "#   Modelos lineales y modelos lineales generalizados\n",
    "# ----------------------------------------------------------\n",
    "#        Rolando Gonzales Martinez, Julio 2024\n",
    "# ==========================================================\n",
    "# Modelo lineal multivariante: evaluacion de modelos \n",
    "\n",
    "# Importando librerias:\n",
    "import numpy as np\n",
    "import pandas as pd\n",
    "import statsmodels.api as sm\n",
    "import statsmodels.formula.api as smf\n",
    "import statsmodels.stats.api as sms\n",
    "\n",
    "\n",
    "# Cargar el conjunto de datos:\n",
    "url = 'https://raw.githubusercontent.com/rogon666/UMSA/main/MLMLG/datos/salarios.csv'\n",
    "\n",
    "# Cargar los datos en un DataFrame\n",
    "datos = pd.read_csv(url)\n",
    "\n",
    "# Mostrar las primeras filas del DataFrame\n",
    "print(datos.head())"
   ]
  },
  {
   "cell_type": "code",
   "execution_count": null,
   "id": "34a47893-fca5-4583-bcba-f76908a3cd53",
   "metadata": {},
   "outputs": [],
   "source": [
    "# Definir las variables independientes y dependientes\n",
    "X = datos[['educacion', 'educacion_posgrado']]\n",
    "y = datos['salario']\n",
    "\n",
    "# Añadir una constante a las variables independientes\n",
    "X = sm.add_constant(X)\n",
    "\n",
    "# Ajustar el modelo de regresión lineal\n",
    "model = sm.OLS(y, X).fit()\n",
    "\n",
    "# Resumen del modelo\n",
    "print(model.summary())"
   ]
  },
  {
   "cell_type": "code",
   "execution_count": null,
   "id": "5e0e406f-09c5-4924-a280-31b08c835787",
   "metadata": {},
   "outputs": [],
   "source": [
    "# Ajustando el modelo de regresion utilizando una formula:\n",
    "# resultados = smf.ols(\"np.log(salario) ~ np.log(educacion) + np.log(edad) + educacion_posgrado\", data=datos).fit()\n",
    "resultados = smf.ols(\"salario ~ educacion + educacion_posgrado\", data=datos).fit()\n",
    "\n",
    "# Resultados\n",
    "print(resultados.summary())"
   ]
  },
  {
   "cell_type": "code",
   "execution_count": null,
   "id": "a7a1a02a-d724-4238-9387-fa7c16872854",
   "metadata": {},
   "outputs": [],
   "source": [
    "# Test de linealidad: Harvey-Collier\n",
    "test = sms.linear_harvey_collier(resultados)\n",
    "print(f'Estadígrafo HC: {test[0]}')\n",
    "print(f'p-value HC ~ t(n-k-1): {test[1]}')"
   ]
  },
  {
   "cell_type": "code",
   "execution_count": null,
   "id": "825e8179-2f14-4cab-b021-e368afbcb070",
   "metadata": {},
   "outputs": [],
   "source": [
    "# Test de normalidad de residuos: Jarque-Bera\n",
    "test = sms.jarque_bera(resultados.resid)\n",
    "print(f'Estadígrafo Jarque-Bera (JB): {test[0]}')\n",
    "print(f'p-value JB ~ chi^2(2): {test[1]}')\n",
    "print(f'Sesgo: {test[2]}')\n",
    "print(f'Curtosis: {test[3]}')"
   ]
  },
  {
   "cell_type": "code",
   "execution_count": null,
   "id": "4db71953-ba9c-43e7-a838-a9ede8e1e3d9",
   "metadata": {},
   "outputs": [],
   "source": [
    "# Test Homocedasticidad: Breusch–Pagan\n",
    "test = sms.het_breuschpagan(resultados.resid, resultados.model.exog)\n",
    "print(f'Estadígrafo LMBP: {test[0]}')\n",
    "print(f'p-value LMBP ~ chi^2(k-1): {test[1]}')\n",
    "print(f'Estadígrafo FBP: {test[2]}')\n",
    "print(f'p-value FBP ~ F(k,n-k-1): {test[3]}')"
   ]
  },
  {
   "cell_type": "code",
   "execution_count": null,
   "id": "994c77fd-4497-411a-85b0-a9f37f65171b",
   "metadata": {},
   "outputs": [],
   "source": [
    "# Test Homocedasticidad: Goldfeld-Quandt\n",
    "test = sms.het_goldfeldquandt(resultados.resid, resultados.model.exog)\n",
    "print(f'Estadígrafo FGQ: {test[0]}')\n",
    "print(f'p-value FGQ ~ F(n1-k,n2-k): {test[1]}')"
   ]
  },
  {
   "cell_type": "code",
   "execution_count": null,
   "id": "05ceb0b2-0120-426f-a29b-dad9d2c7acbe",
   "metadata": {},
   "outputs": [],
   "source": [
    "# Test Homocedasticidad: White\n",
    "from statsmodels.stats.diagnostic import het_white\n",
    "white_test = het_white(resultados.resid, resultados.model.exog)\n",
    "print(f'Estadístico LMW: {white_test[0]}')\n",
    "print(f'p-value LMW ~ chi^2(k-1): {white_test[1]}')"
   ]
  },
  {
   "cell_type": "code",
   "execution_count": null,
   "id": "f54ccbd1-36d3-4b02-8577-be7fc6d97184",
   "metadata": {},
   "outputs": [],
   "source": [
    "# Calcular errores estándar robustos usando la matriz de covarianza de tipo HC3\n",
    "robust_cov = model.get_robustcov_results(cov_type='HC3')\n",
    "\n",
    "# Mostrar los resultados con errores estándar robustos\n",
    "print(robust_cov.summary())"
   ]
  },
  {
   "cell_type": "code",
   "execution_count": null,
   "id": "7b7d46b4-e6d7-4ea4-8f2b-8f624adcc29f",
   "metadata": {},
   "outputs": [],
   "source": [
    "# Estimacion con minimos cuadrados ponderados (WLS):\n",
    "import matplotlib.pyplot as plt\n",
    "\n",
    "# Calcular los residuos del modelo OLS\n",
    "residuos = model.resid\n",
    "\n",
    "# Calcular los pesos inversamente proporcionales a los residuos al cuadrado (o a otra medida de varianza)\n",
    "pesos = 1 / (residuos**2)\n",
    "\n",
    "# Ajustar el modelo de regresión ponderada usando WLS\n",
    "wls_model = sm.WLS(y, X, weights=pesos).fit()\n",
    "\n",
    "# Mostrar el resumen del modelo OLS\n",
    "print(\"Resumen del modelo OLS:\")\n",
    "print(model.summary())\n",
    "\n",
    "# Mostrar el resumen del modelo WLS\n",
    "print(\"\\nResumen del modelo WLS:\")\n",
    "print(wls_model.summary())\n",
    "\n",
    "# Graficar los residuos para observar la heterocedasticidad\n",
    "plt.scatter(model.fittedvalues, residuos)\n",
    "plt.xlabel('Valores Ajustados')\n",
    "plt.ylabel('Residuos')\n",
    "plt.title('Gráfico de Residuos (OLS)')\n",
    "plt.axhline(y=0, color='r', linestyle='--')\n",
    "plt.show()\n",
    "\n",
    "# Graficar los residuos ponderados para observar la heterocedasticidad corregida\n",
    "plt.scatter(wls_model.fittedvalues, wls_model.resid)\n",
    "plt.xlabel('Valores Ajustados')\n",
    "plt.ylabel('Residuos Ponderados')\n",
    "plt.title('Gráfico de Residuos Ponderados (WLS)')\n",
    "plt.axhline(y=0, color='r', linestyle='--')\n",
    "plt.show()\n"
   ]
  }
 ],
 "metadata": {
  "kernelspec": {
   "display_name": "anaconda-2024.02-py310",
   "language": "python",
   "name": "conda-env-anaconda-2024.02-py310-py"
  },
  "language_info": {
   "codemirror_mode": {
    "name": "ipython",
    "version": 3
   },
   "file_extension": ".py",
   "mimetype": "text/x-python",
   "name": "python",
   "nbconvert_exporter": "python",
   "pygments_lexer": "ipython3",
   "version": "3.10.14"
  }
 },
 "nbformat": 4,
 "nbformat_minor": 5
}
